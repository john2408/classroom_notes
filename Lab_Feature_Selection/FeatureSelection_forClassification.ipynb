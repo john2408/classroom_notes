{
 "cells": [
  {
   "cell_type": "markdown",
   "id": "fd711c6d",
   "metadata": {},
   "source": [
    "# Feature Selection for Classification\n",
    "\n",
    "In this demo we will use the Titanic dataset, as it contains a class label (survival yes/no), numerical and nominal features"
   ]
  },
  {
   "cell_type": "code",
   "execution_count": 5,
   "id": "fa013595",
   "metadata": {},
   "outputs": [],
   "source": [
    "import pandas as pd\n",
    "import numpy as np\n",
    "\n",
    "#load titanic dataset from api\n",
    "df = pd.read_csv('https://raw.githubusercontent.com/datasciencedojo/datasets/master/titanic.csv')"
   ]
  },
  {
   "cell_type": "markdown",
   "id": "ec566a4c",
   "metadata": {},
   "source": [
    "# Explore dataset"
   ]
  },
  {
   "cell_type": "code",
   "execution_count": 6,
   "id": "9d2936a5",
   "metadata": {},
   "outputs": [
    {
     "data": {
      "text/html": [
       "<div>\n",
       "<style scoped>\n",
       "    .dataframe tbody tr th:only-of-type {\n",
       "        vertical-align: middle;\n",
       "    }\n",
       "\n",
       "    .dataframe tbody tr th {\n",
       "        vertical-align: top;\n",
       "    }\n",
       "\n",
       "    .dataframe thead th {\n",
       "        text-align: right;\n",
       "    }\n",
       "</style>\n",
       "<table border=\"1\" class=\"dataframe\">\n",
       "  <thead>\n",
       "    <tr style=\"text-align: right;\">\n",
       "      <th></th>\n",
       "      <th>PassengerId</th>\n",
       "      <th>Survived</th>\n",
       "      <th>Pclass</th>\n",
       "      <th>Name</th>\n",
       "      <th>Sex</th>\n",
       "      <th>Age</th>\n",
       "      <th>SibSp</th>\n",
       "      <th>Parch</th>\n",
       "      <th>Ticket</th>\n",
       "      <th>Fare</th>\n",
       "      <th>Cabin</th>\n",
       "      <th>Embarked</th>\n",
       "    </tr>\n",
       "  </thead>\n",
       "  <tbody>\n",
       "    <tr>\n",
       "      <th>0</th>\n",
       "      <td>1</td>\n",
       "      <td>0</td>\n",
       "      <td>3</td>\n",
       "      <td>Braund, Mr. Owen Harris</td>\n",
       "      <td>male</td>\n",
       "      <td>22.0</td>\n",
       "      <td>1</td>\n",
       "      <td>0</td>\n",
       "      <td>A/5 21171</td>\n",
       "      <td>7.2500</td>\n",
       "      <td>NaN</td>\n",
       "      <td>S</td>\n",
       "    </tr>\n",
       "    <tr>\n",
       "      <th>1</th>\n",
       "      <td>2</td>\n",
       "      <td>1</td>\n",
       "      <td>1</td>\n",
       "      <td>Cumings, Mrs. John Bradley (Florence Briggs Th...</td>\n",
       "      <td>female</td>\n",
       "      <td>38.0</td>\n",
       "      <td>1</td>\n",
       "      <td>0</td>\n",
       "      <td>PC 17599</td>\n",
       "      <td>71.2833</td>\n",
       "      <td>C85</td>\n",
       "      <td>C</td>\n",
       "    </tr>\n",
       "    <tr>\n",
       "      <th>2</th>\n",
       "      <td>3</td>\n",
       "      <td>1</td>\n",
       "      <td>3</td>\n",
       "      <td>Heikkinen, Miss. Laina</td>\n",
       "      <td>female</td>\n",
       "      <td>26.0</td>\n",
       "      <td>0</td>\n",
       "      <td>0</td>\n",
       "      <td>STON/O2. 3101282</td>\n",
       "      <td>7.9250</td>\n",
       "      <td>NaN</td>\n",
       "      <td>S</td>\n",
       "    </tr>\n",
       "    <tr>\n",
       "      <th>3</th>\n",
       "      <td>4</td>\n",
       "      <td>1</td>\n",
       "      <td>1</td>\n",
       "      <td>Futrelle, Mrs. Jacques Heath (Lily May Peel)</td>\n",
       "      <td>female</td>\n",
       "      <td>35.0</td>\n",
       "      <td>1</td>\n",
       "      <td>0</td>\n",
       "      <td>113803</td>\n",
       "      <td>53.1000</td>\n",
       "      <td>C123</td>\n",
       "      <td>S</td>\n",
       "    </tr>\n",
       "    <tr>\n",
       "      <th>4</th>\n",
       "      <td>5</td>\n",
       "      <td>0</td>\n",
       "      <td>3</td>\n",
       "      <td>Allen, Mr. William Henry</td>\n",
       "      <td>male</td>\n",
       "      <td>35.0</td>\n",
       "      <td>0</td>\n",
       "      <td>0</td>\n",
       "      <td>373450</td>\n",
       "      <td>8.0500</td>\n",
       "      <td>NaN</td>\n",
       "      <td>S</td>\n",
       "    </tr>\n",
       "    <tr>\n",
       "      <th>...</th>\n",
       "      <td>...</td>\n",
       "      <td>...</td>\n",
       "      <td>...</td>\n",
       "      <td>...</td>\n",
       "      <td>...</td>\n",
       "      <td>...</td>\n",
       "      <td>...</td>\n",
       "      <td>...</td>\n",
       "      <td>...</td>\n",
       "      <td>...</td>\n",
       "      <td>...</td>\n",
       "      <td>...</td>\n",
       "    </tr>\n",
       "    <tr>\n",
       "      <th>886</th>\n",
       "      <td>887</td>\n",
       "      <td>0</td>\n",
       "      <td>2</td>\n",
       "      <td>Montvila, Rev. Juozas</td>\n",
       "      <td>male</td>\n",
       "      <td>27.0</td>\n",
       "      <td>0</td>\n",
       "      <td>0</td>\n",
       "      <td>211536</td>\n",
       "      <td>13.0000</td>\n",
       "      <td>NaN</td>\n",
       "      <td>S</td>\n",
       "    </tr>\n",
       "    <tr>\n",
       "      <th>887</th>\n",
       "      <td>888</td>\n",
       "      <td>1</td>\n",
       "      <td>1</td>\n",
       "      <td>Graham, Miss. Margaret Edith</td>\n",
       "      <td>female</td>\n",
       "      <td>19.0</td>\n",
       "      <td>0</td>\n",
       "      <td>0</td>\n",
       "      <td>112053</td>\n",
       "      <td>30.0000</td>\n",
       "      <td>B42</td>\n",
       "      <td>S</td>\n",
       "    </tr>\n",
       "    <tr>\n",
       "      <th>888</th>\n",
       "      <td>889</td>\n",
       "      <td>0</td>\n",
       "      <td>3</td>\n",
       "      <td>Johnston, Miss. Catherine Helen \"Carrie\"</td>\n",
       "      <td>female</td>\n",
       "      <td>NaN</td>\n",
       "      <td>1</td>\n",
       "      <td>2</td>\n",
       "      <td>W./C. 6607</td>\n",
       "      <td>23.4500</td>\n",
       "      <td>NaN</td>\n",
       "      <td>S</td>\n",
       "    </tr>\n",
       "    <tr>\n",
       "      <th>889</th>\n",
       "      <td>890</td>\n",
       "      <td>1</td>\n",
       "      <td>1</td>\n",
       "      <td>Behr, Mr. Karl Howell</td>\n",
       "      <td>male</td>\n",
       "      <td>26.0</td>\n",
       "      <td>0</td>\n",
       "      <td>0</td>\n",
       "      <td>111369</td>\n",
       "      <td>30.0000</td>\n",
       "      <td>C148</td>\n",
       "      <td>C</td>\n",
       "    </tr>\n",
       "    <tr>\n",
       "      <th>890</th>\n",
       "      <td>891</td>\n",
       "      <td>0</td>\n",
       "      <td>3</td>\n",
       "      <td>Dooley, Mr. Patrick</td>\n",
       "      <td>male</td>\n",
       "      <td>32.0</td>\n",
       "      <td>0</td>\n",
       "      <td>0</td>\n",
       "      <td>370376</td>\n",
       "      <td>7.7500</td>\n",
       "      <td>NaN</td>\n",
       "      <td>Q</td>\n",
       "    </tr>\n",
       "  </tbody>\n",
       "</table>\n",
       "<p>891 rows × 12 columns</p>\n",
       "</div>"
      ],
      "text/plain": [
       "     PassengerId  Survived  Pclass  \\\n",
       "0              1         0       3   \n",
       "1              2         1       1   \n",
       "2              3         1       3   \n",
       "3              4         1       1   \n",
       "4              5         0       3   \n",
       "..           ...       ...     ...   \n",
       "886          887         0       2   \n",
       "887          888         1       1   \n",
       "888          889         0       3   \n",
       "889          890         1       1   \n",
       "890          891         0       3   \n",
       "\n",
       "                                                  Name     Sex   Age  SibSp  \\\n",
       "0                              Braund, Mr. Owen Harris    male  22.0      1   \n",
       "1    Cumings, Mrs. John Bradley (Florence Briggs Th...  female  38.0      1   \n",
       "2                               Heikkinen, Miss. Laina  female  26.0      0   \n",
       "3         Futrelle, Mrs. Jacques Heath (Lily May Peel)  female  35.0      1   \n",
       "4                             Allen, Mr. William Henry    male  35.0      0   \n",
       "..                                                 ...     ...   ...    ...   \n",
       "886                              Montvila, Rev. Juozas    male  27.0      0   \n",
       "887                       Graham, Miss. Margaret Edith  female  19.0      0   \n",
       "888           Johnston, Miss. Catherine Helen \"Carrie\"  female   NaN      1   \n",
       "889                              Behr, Mr. Karl Howell    male  26.0      0   \n",
       "890                                Dooley, Mr. Patrick    male  32.0      0   \n",
       "\n",
       "     Parch            Ticket     Fare Cabin Embarked  \n",
       "0        0         A/5 21171   7.2500   NaN        S  \n",
       "1        0          PC 17599  71.2833   C85        C  \n",
       "2        0  STON/O2. 3101282   7.9250   NaN        S  \n",
       "3        0            113803  53.1000  C123        S  \n",
       "4        0            373450   8.0500   NaN        S  \n",
       "..     ...               ...      ...   ...      ...  \n",
       "886      0            211536  13.0000   NaN        S  \n",
       "887      0            112053  30.0000   B42        S  \n",
       "888      2        W./C. 6607  23.4500   NaN        S  \n",
       "889      0            111369  30.0000  C148        C  \n",
       "890      0            370376   7.7500   NaN        Q  \n",
       "\n",
       "[891 rows x 12 columns]"
      ]
     },
     "execution_count": 6,
     "metadata": {},
     "output_type": "execute_result"
    }
   ],
   "source": [
    "df"
   ]
  },
  {
   "cell_type": "code",
   "execution_count": 7,
   "id": "bb875f52",
   "metadata": {},
   "outputs": [
    {
     "name": "stdout",
     "output_type": "stream",
     "text": [
      "<class 'pandas.core.frame.DataFrame'>\n",
      "RangeIndex: 891 entries, 0 to 890\n",
      "Data columns (total 12 columns):\n",
      " #   Column       Non-Null Count  Dtype  \n",
      "---  ------       --------------  -----  \n",
      " 0   PassengerId  891 non-null    int64  \n",
      " 1   Survived     891 non-null    int64  \n",
      " 2   Pclass       891 non-null    int64  \n",
      " 3   Name         891 non-null    object \n",
      " 4   Sex          891 non-null    object \n",
      " 5   Age          714 non-null    float64\n",
      " 6   SibSp        891 non-null    int64  \n",
      " 7   Parch        891 non-null    int64  \n",
      " 8   Ticket       891 non-null    object \n",
      " 9   Fare         891 non-null    float64\n",
      " 10  Cabin        204 non-null    object \n",
      " 11  Embarked     889 non-null    object \n",
      "dtypes: float64(2), int64(5), object(5)\n",
      "memory usage: 83.7+ KB\n"
     ]
    }
   ],
   "source": [
    "df.info()"
   ]
  },
  {
   "cell_type": "code",
   "execution_count": 8,
   "id": "d1b225f8",
   "metadata": {},
   "outputs": [
    {
     "data": {
      "text/html": [
       "<div>\n",
       "<style scoped>\n",
       "    .dataframe tbody tr th:only-of-type {\n",
       "        vertical-align: middle;\n",
       "    }\n",
       "\n",
       "    .dataframe tbody tr th {\n",
       "        vertical-align: top;\n",
       "    }\n",
       "\n",
       "    .dataframe thead th {\n",
       "        text-align: right;\n",
       "    }\n",
       "</style>\n",
       "<table border=\"1\" class=\"dataframe\">\n",
       "  <thead>\n",
       "    <tr style=\"text-align: right;\">\n",
       "      <th></th>\n",
       "      <th>Name</th>\n",
       "      <th>Sex</th>\n",
       "      <th>Ticket</th>\n",
       "      <th>Cabin</th>\n",
       "      <th>Embarked</th>\n",
       "    </tr>\n",
       "  </thead>\n",
       "  <tbody>\n",
       "    <tr>\n",
       "      <th>count</th>\n",
       "      <td>891</td>\n",
       "      <td>891</td>\n",
       "      <td>891</td>\n",
       "      <td>204</td>\n",
       "      <td>889</td>\n",
       "    </tr>\n",
       "    <tr>\n",
       "      <th>unique</th>\n",
       "      <td>891</td>\n",
       "      <td>2</td>\n",
       "      <td>681</td>\n",
       "      <td>147</td>\n",
       "      <td>3</td>\n",
       "    </tr>\n",
       "    <tr>\n",
       "      <th>top</th>\n",
       "      <td>Braund, Mr. Owen Harris</td>\n",
       "      <td>male</td>\n",
       "      <td>347082</td>\n",
       "      <td>B96 B98</td>\n",
       "      <td>S</td>\n",
       "    </tr>\n",
       "    <tr>\n",
       "      <th>freq</th>\n",
       "      <td>1</td>\n",
       "      <td>577</td>\n",
       "      <td>7</td>\n",
       "      <td>4</td>\n",
       "      <td>644</td>\n",
       "    </tr>\n",
       "  </tbody>\n",
       "</table>\n",
       "</div>"
      ],
      "text/plain": [
       "                           Name   Sex  Ticket    Cabin Embarked\n",
       "count                       891   891     891      204      889\n",
       "unique                      891     2     681      147        3\n",
       "top     Braund, Mr. Owen Harris  male  347082  B96 B98        S\n",
       "freq                          1   577       7        4      644"
      ]
     },
     "execution_count": 8,
     "metadata": {},
     "output_type": "execute_result"
    }
   ],
   "source": [
    "#describe nominal data\n",
    "df.describe(include='object')"
   ]
  },
  {
   "cell_type": "markdown",
   "id": "fbd556f6",
   "metadata": {},
   "source": [
    "Name and ticket consist of mostly unique values, cabin mostly NaN values, so they are clear candidates to be filtered out during feature selection"
   ]
  },
  {
   "cell_type": "code",
   "execution_count": 9,
   "id": "59d048cc",
   "metadata": {},
   "outputs": [
    {
     "data": {
      "text/html": [
       "<div>\n",
       "<style scoped>\n",
       "    .dataframe tbody tr th:only-of-type {\n",
       "        vertical-align: middle;\n",
       "    }\n",
       "\n",
       "    .dataframe tbody tr th {\n",
       "        vertical-align: top;\n",
       "    }\n",
       "\n",
       "    .dataframe thead th {\n",
       "        text-align: right;\n",
       "    }\n",
       "</style>\n",
       "<table border=\"1\" class=\"dataframe\">\n",
       "  <thead>\n",
       "    <tr style=\"text-align: right;\">\n",
       "      <th></th>\n",
       "      <th>PassengerId</th>\n",
       "      <th>Survived</th>\n",
       "      <th>Pclass</th>\n",
       "      <th>Age</th>\n",
       "      <th>SibSp</th>\n",
       "      <th>Parch</th>\n",
       "      <th>Fare</th>\n",
       "    </tr>\n",
       "  </thead>\n",
       "  <tbody>\n",
       "    <tr>\n",
       "      <th>count</th>\n",
       "      <td>891.000000</td>\n",
       "      <td>891.000000</td>\n",
       "      <td>891.000000</td>\n",
       "      <td>714.000000</td>\n",
       "      <td>891.000000</td>\n",
       "      <td>891.000000</td>\n",
       "      <td>891.000000</td>\n",
       "    </tr>\n",
       "    <tr>\n",
       "      <th>mean</th>\n",
       "      <td>446.000000</td>\n",
       "      <td>0.383838</td>\n",
       "      <td>2.308642</td>\n",
       "      <td>29.699118</td>\n",
       "      <td>0.523008</td>\n",
       "      <td>0.381594</td>\n",
       "      <td>32.204208</td>\n",
       "    </tr>\n",
       "    <tr>\n",
       "      <th>std</th>\n",
       "      <td>257.353842</td>\n",
       "      <td>0.486592</td>\n",
       "      <td>0.836071</td>\n",
       "      <td>14.526497</td>\n",
       "      <td>1.102743</td>\n",
       "      <td>0.806057</td>\n",
       "      <td>49.693429</td>\n",
       "    </tr>\n",
       "    <tr>\n",
       "      <th>min</th>\n",
       "      <td>1.000000</td>\n",
       "      <td>0.000000</td>\n",
       "      <td>1.000000</td>\n",
       "      <td>0.420000</td>\n",
       "      <td>0.000000</td>\n",
       "      <td>0.000000</td>\n",
       "      <td>0.000000</td>\n",
       "    </tr>\n",
       "    <tr>\n",
       "      <th>25%</th>\n",
       "      <td>223.500000</td>\n",
       "      <td>0.000000</td>\n",
       "      <td>2.000000</td>\n",
       "      <td>20.125000</td>\n",
       "      <td>0.000000</td>\n",
       "      <td>0.000000</td>\n",
       "      <td>7.910400</td>\n",
       "    </tr>\n",
       "    <tr>\n",
       "      <th>50%</th>\n",
       "      <td>446.000000</td>\n",
       "      <td>0.000000</td>\n",
       "      <td>3.000000</td>\n",
       "      <td>28.000000</td>\n",
       "      <td>0.000000</td>\n",
       "      <td>0.000000</td>\n",
       "      <td>14.454200</td>\n",
       "    </tr>\n",
       "    <tr>\n",
       "      <th>75%</th>\n",
       "      <td>668.500000</td>\n",
       "      <td>1.000000</td>\n",
       "      <td>3.000000</td>\n",
       "      <td>38.000000</td>\n",
       "      <td>1.000000</td>\n",
       "      <td>0.000000</td>\n",
       "      <td>31.000000</td>\n",
       "    </tr>\n",
       "    <tr>\n",
       "      <th>max</th>\n",
       "      <td>891.000000</td>\n",
       "      <td>1.000000</td>\n",
       "      <td>3.000000</td>\n",
       "      <td>80.000000</td>\n",
       "      <td>8.000000</td>\n",
       "      <td>6.000000</td>\n",
       "      <td>512.329200</td>\n",
       "    </tr>\n",
       "  </tbody>\n",
       "</table>\n",
       "</div>"
      ],
      "text/plain": [
       "       PassengerId    Survived      Pclass         Age       SibSp  \\\n",
       "count   891.000000  891.000000  891.000000  714.000000  891.000000   \n",
       "mean    446.000000    0.383838    2.308642   29.699118    0.523008   \n",
       "std     257.353842    0.486592    0.836071   14.526497    1.102743   \n",
       "min       1.000000    0.000000    1.000000    0.420000    0.000000   \n",
       "25%     223.500000    0.000000    2.000000   20.125000    0.000000   \n",
       "50%     446.000000    0.000000    3.000000   28.000000    0.000000   \n",
       "75%     668.500000    1.000000    3.000000   38.000000    1.000000   \n",
       "max     891.000000    1.000000    3.000000   80.000000    8.000000   \n",
       "\n",
       "            Parch        Fare  \n",
       "count  891.000000  891.000000  \n",
       "mean     0.381594   32.204208  \n",
       "std      0.806057   49.693429  \n",
       "min      0.000000    0.000000  \n",
       "25%      0.000000    7.910400  \n",
       "50%      0.000000   14.454200  \n",
       "75%      0.000000   31.000000  \n",
       "max      6.000000  512.329200  "
      ]
     },
     "execution_count": 9,
     "metadata": {},
     "output_type": "execute_result"
    }
   ],
   "source": [
    "#describe numerical data\n",
    "df.describe(include='number')\n"
   ]
  },
  {
   "cell_type": "markdown",
   "id": "8e9b8f7c",
   "metadata": {},
   "source": [
    "Age contains some missing values, survived is the target variable"
   ]
  },
  {
   "cell_type": "code",
   "execution_count": 10,
   "id": "73207990",
   "metadata": {},
   "outputs": [
    {
     "data": {
      "text/plain": [
       "array([[<Axes: title={'center': 'PassengerId'}>,\n",
       "        <Axes: title={'center': 'Survived'}>,\n",
       "        <Axes: title={'center': 'Pclass'}>],\n",
       "       [<Axes: title={'center': 'Age'}>,\n",
       "        <Axes: title={'center': 'SibSp'}>,\n",
       "        <Axes: title={'center': 'Parch'}>],\n",
       "       [<Axes: title={'center': 'Fare'}>, <Axes: >, <Axes: >]],\n",
       "      dtype=object)"
      ]
     },
     "execution_count": 10,
     "metadata": {},
     "output_type": "execute_result"
    },
    {
     "data": {
      "image/png": "[encoded data removed]",
      "text/plain": [
       "<Figure size 1000x1000 with 9 Axes>"
      ]
     },
     "metadata": {},
     "output_type": "display_data"
    }
   ],
   "source": [
    "#plot histograms of all numerical data\n",
    "df.hist(figsize=(10,10))\n"
   ]
  },
  {
   "cell_type": "code",
   "execution_count": 11,
   "id": "eae4f59f",
   "metadata": {},
   "outputs": [
    {
     "name": "stdout",
     "output_type": "stream",
     "text": [
      "Survived: [0 1]\n",
      "Pclass: [3 1 2]\n",
      "Sex: ['male' 'female']\n",
      "SibSp: [1 0 3 4 2 5 8]\n",
      "Parch: [0 1 2 5 3 4 6]\n",
      "Embarked: ['S' 'C' 'Q' nan]\n"
     ]
    }
   ],
   "source": [
    "#show unique values for numerical features with less than 10 unique values\n",
    "for col in df.columns:\n",
    "    if df[col].nunique() < 10:\n",
    "        print(f'{col}: {df[col].unique()}')"
   ]
  },
  {
   "cell_type": "code",
   "execution_count": 12,
   "id": "8ce00704",
   "metadata": {},
   "outputs": [
    {
     "data": {
      "text/plain": [
       "PassengerId\n",
       "1      1\n",
       "599    1\n",
       "588    1\n",
       "589    1\n",
       "590    1\n",
       "      ..\n",
       "301    1\n",
       "302    1\n",
       "303    1\n",
       "304    1\n",
       "891    1\n",
       "Name: count, Length: 891, dtype: int64"
      ]
     },
     "execution_count": 12,
     "metadata": {},
     "output_type": "execute_result"
    }
   ],
   "source": [
    "#count different values in passenger id\n",
    "df['PassengerId'].value_counts()"
   ]
  },
  {
   "cell_type": "markdown",
   "id": "daff0dcc",
   "metadata": {},
   "source": [
    "passenger-id contains unique values (as it should, therefore also a feature which will be filtered later)"
   ]
  },
  {
   "cell_type": "code",
   "execution_count": 13,
   "id": "420fba66",
   "metadata": {},
   "outputs": [],
   "source": [
    "#create label \"survived\"\n",
    "label= df['Survived']\n",
    "\n",
    "#separate/remove survived from features\n",
    "features = df.drop(columns=['Survived'])"
   ]
  },
  {
   "cell_type": "code",
   "execution_count": 14,
   "id": "3083d83b",
   "metadata": {},
   "outputs": [
    {
     "data": {
      "text/plain": [
       "0      0\n",
       "1      1\n",
       "2      1\n",
       "3      1\n",
       "4      0\n",
       "      ..\n",
       "886    0\n",
       "887    1\n",
       "888    0\n",
       "889    1\n",
       "890    0\n",
       "Name: Survived, Length: 891, dtype: int64"
      ]
     },
     "execution_count": 14,
     "metadata": {},
     "output_type": "execute_result"
    }
   ],
   "source": [
    "#features\n",
    "label"
   ]
  },
  {
   "cell_type": "code",
   "execution_count": 15,
   "id": "ce096412",
   "metadata": {},
   "outputs": [
    {
     "name": "stdout",
     "output_type": "stream",
     "text": [
      "<class 'pandas.core.frame.DataFrame'>\n",
      "RangeIndex: 891 entries, 0 to 890\n",
      "Data columns (total 11 columns):\n",
      " #   Column       Non-Null Count  Dtype  \n",
      "---  ------       --------------  -----  \n",
      " 0   PassengerId  891 non-null    int64  \n",
      " 1   Pclass       891 non-null    int64  \n",
      " 2   Name         891 non-null    object \n",
      " 3   Sex          891 non-null    object \n",
      " 4   Age          714 non-null    float64\n",
      " 5   SibSp        891 non-null    int64  \n",
      " 6   Parch        891 non-null    int64  \n",
      " 7   Ticket       891 non-null    object \n",
      " 8   Fare         891 non-null    float64\n",
      " 9   Cabin        204 non-null    object \n",
      " 10  Embarked     889 non-null    object \n",
      "dtypes: float64(2), int64(4), object(5)\n",
      "memory usage: 76.7+ KB\n"
     ]
    }
   ],
   "source": [
    "features.info()"
   ]
  },
  {
   "cell_type": "markdown",
   "id": "9e3b1fe1",
   "metadata": {},
   "source": [
    "# Feature selection by variance and variation ratio"
   ]
  },
  {
   "cell_type": "markdown",
   "id": "00b19737",
   "metadata": {},
   "source": [
    "#### Continuous and discrete features which can be used for variance calculation"
   ]
  },
  {
   "cell_type": "markdown",
   "id": "97ee369b",
   "metadata": {},
   "source": [
    "We will use the features \"Fare\", \"Age\", \"Passenger ID\", \"SibSp\" and \"Parch\" to demonstate feature selection by variance\n",
    "\n",
    "Remark: Strictly speaking, only \"Fare\" is a continous feature, the other three features are discrete. However, we can calculate variance for \"Age\" which is ordinal and has large cardinality.\n",
    "\n",
    "\"SibSp\" and \"Parch\" are also ordinal with medium cardinality (7 unique values each). Here we get into the grey zone of statistics, we will calcule variance and variation ratio for those ones. \n",
    "\n",
    "\"Pclass\" is ordinal, but with low cardinality (3 unique values),\"Passenger-ID\" is also ordinal, but will be filtered out later, so these two numeric features will not be used for the following calculations"
   ]
  },
  {
   "cell_type": "code",
   "execution_count": 18,
   "id": "411067fe",
   "metadata": {},
   "outputs": [
    {
     "data": {
      "text/plain": [
       "['PassengerId', 'Age', 'SibSp', 'Parch', 'Fare']"
      ]
     },
     "execution_count": 18,
     "metadata": {},
     "output_type": "execute_result"
    }
   ],
   "source": [
    "variance_features = features.describe(include='number').columns\n",
    "variance_features = [col for col in variance_features if features[col].nunique() > 3]\n",
    "variance_features"
   ]
  },
  {
   "cell_type": "code",
   "execution_count": 462,
   "id": "022b317d",
   "metadata": {},
   "outputs": [],
   "source": [
    "variance_features = ['PassengerId','Age', 'Fare','SibSp','Parch']"
   ]
  },
  {
   "cell_type": "code",
   "execution_count": 463,
   "id": "5be525e4",
   "metadata": {},
   "outputs": [],
   "source": [
    "#min-max normalize continuous features to be able to compare their variance\n",
    "for col in variance_features:\n",
    "    normalized_col = col+'_normalized'\n",
    "    features[normalized_col] = (features[col] - features[col].min()) / (features[col].max() - features[col].min())\n",
    "\n",
    "normalized_features = ['PassengerId_normalized','Age_normalized', 'Fare_normalized','SibSp_normalized','Parch_normalized']\n",
    "\n",
    "#describe normalized data\n",
    "features[normalized_features].describe()"
   ]
  },
  {
   "cell_type": "code",
   "execution_count": 464,
   "id": "d3ad64a1",
   "metadata": {},
   "outputs": [
    {
     "data": {
      "text/html": [
       "<div>\n",
       "<style scoped>\n",
       "    .dataframe tbody tr th:only-of-type {\n",
       "        vertical-align: middle;\n",
       "    }\n",
       "\n",
       "    .dataframe tbody tr th {\n",
       "        vertical-align: top;\n",
       "    }\n",
       "\n",
       "    .dataframe thead th {\n",
       "        text-align: right;\n",
       "    }\n",
       "</style>\n",
       "<table border=\"1\" class=\"dataframe\">\n",
       "  <thead>\n",
       "    <tr style=\"text-align: right;\">\n",
       "      <th></th>\n",
       "      <th>PassengerId_normalized</th>\n",
       "      <th>Age_normalized</th>\n",
       "      <th>Fare_normalized</th>\n",
       "      <th>SibSp_normalized</th>\n",
       "      <th>Parch_normalized</th>\n",
       "    </tr>\n",
       "  </thead>\n",
       "  <tbody>\n",
       "    <tr>\n",
       "      <th>count</th>\n",
       "      <td>891.000000</td>\n",
       "      <td>714.000000</td>\n",
       "      <td>891.000000</td>\n",
       "      <td>891.000000</td>\n",
       "      <td>891.000000</td>\n",
       "    </tr>\n",
       "    <tr>\n",
       "      <th>mean</th>\n",
       "      <td>0.500000</td>\n",
       "      <td>0.367921</td>\n",
       "      <td>0.062858</td>\n",
       "      <td>0.065376</td>\n",
       "      <td>0.063599</td>\n",
       "    </tr>\n",
       "    <tr>\n",
       "      <th>std</th>\n",
       "      <td>0.289162</td>\n",
       "      <td>0.182540</td>\n",
       "      <td>0.096995</td>\n",
       "      <td>0.137843</td>\n",
       "      <td>0.134343</td>\n",
       "    </tr>\n",
       "    <tr>\n",
       "      <th>min</th>\n",
       "      <td>0.000000</td>\n",
       "      <td>0.000000</td>\n",
       "      <td>0.000000</td>\n",
       "      <td>0.000000</td>\n",
       "      <td>0.000000</td>\n",
       "    </tr>\n",
       "    <tr>\n",
       "      <th>25%</th>\n",
       "      <td>0.250000</td>\n",
       "      <td>0.247612</td>\n",
       "      <td>0.015440</td>\n",
       "      <td>0.000000</td>\n",
       "      <td>0.000000</td>\n",
       "    </tr>\n",
       "    <tr>\n",
       "      <th>50%</th>\n",
       "      <td>0.500000</td>\n",
       "      <td>0.346569</td>\n",
       "      <td>0.028213</td>\n",
       "      <td>0.000000</td>\n",
       "      <td>0.000000</td>\n",
       "    </tr>\n",
       "    <tr>\n",
       "      <th>75%</th>\n",
       "      <td>0.750000</td>\n",
       "      <td>0.472229</td>\n",
       "      <td>0.060508</td>\n",
       "      <td>0.125000</td>\n",
       "      <td>0.000000</td>\n",
       "    </tr>\n",
       "    <tr>\n",
       "      <th>max</th>\n",
       "      <td>1.000000</td>\n",
       "      <td>1.000000</td>\n",
       "      <td>1.000000</td>\n",
       "      <td>1.000000</td>\n",
       "      <td>1.000000</td>\n",
       "    </tr>\n",
       "  </tbody>\n",
       "</table>\n",
       "</div>"
      ],
      "text/plain": [
       "       PassengerId_normalized  Age_normalized  Fare_normalized  \\\n",
       "count              891.000000      714.000000       891.000000   \n",
       "mean                 0.500000        0.367921         0.062858   \n",
       "std                  0.289162        0.182540         0.096995   \n",
       "min                  0.000000        0.000000         0.000000   \n",
       "25%                  0.250000        0.247612         0.015440   \n",
       "50%                  0.500000        0.346569         0.028213   \n",
       "75%                  0.750000        0.472229         0.060508   \n",
       "max                  1.000000        1.000000         1.000000   \n",
       "\n",
       "       SibSp_normalized  Parch_normalized  \n",
       "count        891.000000        891.000000  \n",
       "mean           0.065376          0.063599  \n",
       "std            0.137843          0.134343  \n",
       "min            0.000000          0.000000  \n",
       "25%            0.000000          0.000000  \n",
       "50%            0.000000          0.000000  \n",
       "75%            0.125000          0.000000  \n",
       "max            1.000000          1.000000  "
      ]
     },
     "execution_count": 464,
     "metadata": {},
     "output_type": "execute_result"
    }
   ],
   "source": [
    "normalized_features = ['PassengerId_normalized','Age_normalized', 'Fare_normalized','SibSp_normalized','Parch_normalized']\n",
    "\n",
    "#describe normalized data\n",
    "features[normalized_features].describe()"
   ]
  },
  {
   "cell_type": "markdown",
   "id": "6bea315a",
   "metadata": {},
   "source": [
    "Std values already show that Passenger Id has strongest variance"
   ]
  },
  {
   "cell_type": "code",
   "execution_count": 465,
   "id": "af21f221",
   "metadata": {},
   "outputs": [
    {
     "data": {
      "text/plain": [
       "PassengerId_normalized    0.083614\n",
       "Age_normalized            0.033321\n",
       "Fare_normalized           0.009408\n",
       "SibSp_normalized          0.019001\n",
       "Parch_normalized          0.018048\n",
       "dtype: float64"
      ]
     },
     "execution_count": 465,
     "metadata": {},
     "output_type": "execute_result"
    }
   ],
   "source": [
    "#calculate variance for normalized features\n",
    "features[normalized_features].var()"
   ]
  },
  {
   "cell_type": "markdown",
   "id": "b219a232",
   "metadata": {},
   "source": [
    "Although the size of a party / family (expressed by \"SibSp\" and \"Parch\") should have some influence on the label their pure variance is low\n",
    "\n",
    "Reason: Most parties / families on board have been small (singles or couples)"
   ]
  },
  {
   "cell_type": "code",
   "execution_count": 466,
   "id": "0acca13a",
   "metadata": {},
   "outputs": [
    {
     "data": {
      "text/plain": [
       "array([[<Axes: title={'center': 'SibSp'}>,\n",
       "        <Axes: title={'center': 'Parch'}>]], dtype=object)"
      ]
     },
     "execution_count": 466,
     "metadata": {},
     "output_type": "execute_result"
    },
    {
     "data": {
      "image/png": "[encoded data removed]",
      "text/plain": [
       "<Figure size 1000x200 with 2 Axes>"
      ]
     },
     "metadata": {},
     "output_type": "display_data"
    }
   ],
   "source": [
    "#plot histograms of all numerical data\n",
    "df[['SibSp','Parch']].hist(figsize=(10,2))"
   ]
  },
  {
   "cell_type": "markdown",
   "id": "c04baca2",
   "metadata": {},
   "source": [
    "#### Categorical and discrete features which should be checked with variation ratio\n",
    "\n",
    "We will analyze all meaningfull features accept \"Age\" and \"Fare\" and \"Passenger Id\" calculating variation ratio, including \"SibSp\" and \"Parch\" as they do not have an optimal distrubution shape for variance calculations\n"
   ]
  },
  {
   "cell_type": "code",
   "execution_count": 467,
   "id": "81c7f3d6",
   "metadata": {},
   "outputs": [],
   "source": [
    "variation_features = ['Pclass', 'Sex', 'SibSp', 'Parch', 'Embarked']\n",
    "non_continous_feature_data=features[variation_features]\n",
    "\n",
    "non_continous_feature_data_var = non_continous_feature_data.apply(lambda x: x.value_counts(normalize=True).max(), axis=0)\n",
    "non_continous_feature_data_var_ratio=1-non_continous_feature_data_var\n",
    "non_continous_feature_data_var_ratio"
   ]
  },
  {
   "cell_type": "code",
   "execution_count": 468,
   "id": "69407730",
   "metadata": {},
   "outputs": [
    {
     "data": {
      "text/plain": [
       "Pclass      0.448934\n",
       "Sex         0.352413\n",
       "SibSp       0.317621\n",
       "Parch       0.239057\n",
       "Embarked    0.275591\n",
       "dtype: float64"
      ]
     },
     "execution_count": 468,
     "metadata": {},
     "output_type": "execute_result"
    }
   ],
   "source": [
    "#calculate variation ratio for nominal features\n",
    "#explanation: The value_counts() method counts the number of occurrences of each unique value in the column, \n",
    "#and the normalize=True parameter normalizes the counts to represent percentages of the total number of values in the column\n",
    "non_continous_feature_data_var = non_continous_feature_data.apply(lambda x: x.value_counts(normalize=True).max(), axis=0)\n",
    "non_continous_feature_data_var_ratio=1-non_continous_feature_data_var\n",
    "non_continous_feature_data_var_ratio"
   ]
  },
  {
   "cell_type": "markdown",
   "id": "eff2015e",
   "metadata": {},
   "source": [
    "# Feature selection for continuous data* using correlation\n",
    "\n",
    "*and SibSp and Parch"
   ]
  },
  {
   "cell_type": "code",
   "execution_count": 469,
   "id": "de63657e",
   "metadata": {},
   "outputs": [
    {
     "data": {
      "text/html": [
       "<div>\n",
       "<style scoped>\n",
       "    .dataframe tbody tr th:only-of-type {\n",
       "        vertical-align: middle;\n",
       "    }\n",
       "\n",
       "    .dataframe tbody tr th {\n",
       "        vertical-align: top;\n",
       "    }\n",
       "\n",
       "    .dataframe thead th {\n",
       "        text-align: right;\n",
       "    }\n",
       "</style>\n",
       "<table border=\"1\" class=\"dataframe\">\n",
       "  <thead>\n",
       "    <tr style=\"text-align: right;\">\n",
       "      <th></th>\n",
       "      <th>PassengerId</th>\n",
       "      <th>Age</th>\n",
       "      <th>Fare</th>\n",
       "      <th>SibSp</th>\n",
       "      <th>Parch</th>\n",
       "      <th>Survived</th>\n",
       "    </tr>\n",
       "  </thead>\n",
       "  <tbody>\n",
       "    <tr>\n",
       "      <th>0</th>\n",
       "      <td>1</td>\n",
       "      <td>22.0</td>\n",
       "      <td>7.2500</td>\n",
       "      <td>1</td>\n",
       "      <td>0</td>\n",
       "      <td>0</td>\n",
       "    </tr>\n",
       "    <tr>\n",
       "      <th>1</th>\n",
       "      <td>2</td>\n",
       "      <td>38.0</td>\n",
       "      <td>71.2833</td>\n",
       "      <td>1</td>\n",
       "      <td>0</td>\n",
       "      <td>1</td>\n",
       "    </tr>\n",
       "    <tr>\n",
       "      <th>2</th>\n",
       "      <td>3</td>\n",
       "      <td>26.0</td>\n",
       "      <td>7.9250</td>\n",
       "      <td>0</td>\n",
       "      <td>0</td>\n",
       "      <td>1</td>\n",
       "    </tr>\n",
       "    <tr>\n",
       "      <th>3</th>\n",
       "      <td>4</td>\n",
       "      <td>35.0</td>\n",
       "      <td>53.1000</td>\n",
       "      <td>1</td>\n",
       "      <td>0</td>\n",
       "      <td>1</td>\n",
       "    </tr>\n",
       "    <tr>\n",
       "      <th>4</th>\n",
       "      <td>5</td>\n",
       "      <td>35.0</td>\n",
       "      <td>8.0500</td>\n",
       "      <td>0</td>\n",
       "      <td>0</td>\n",
       "      <td>0</td>\n",
       "    </tr>\n",
       "    <tr>\n",
       "      <th>...</th>\n",
       "      <td>...</td>\n",
       "      <td>...</td>\n",
       "      <td>...</td>\n",
       "      <td>...</td>\n",
       "      <td>...</td>\n",
       "      <td>...</td>\n",
       "    </tr>\n",
       "    <tr>\n",
       "      <th>886</th>\n",
       "      <td>887</td>\n",
       "      <td>27.0</td>\n",
       "      <td>13.0000</td>\n",
       "      <td>0</td>\n",
       "      <td>0</td>\n",
       "      <td>0</td>\n",
       "    </tr>\n",
       "    <tr>\n",
       "      <th>887</th>\n",
       "      <td>888</td>\n",
       "      <td>19.0</td>\n",
       "      <td>30.0000</td>\n",
       "      <td>0</td>\n",
       "      <td>0</td>\n",
       "      <td>1</td>\n",
       "    </tr>\n",
       "    <tr>\n",
       "      <th>888</th>\n",
       "      <td>889</td>\n",
       "      <td>NaN</td>\n",
       "      <td>23.4500</td>\n",
       "      <td>1</td>\n",
       "      <td>2</td>\n",
       "      <td>0</td>\n",
       "    </tr>\n",
       "    <tr>\n",
       "      <th>889</th>\n",
       "      <td>890</td>\n",
       "      <td>26.0</td>\n",
       "      <td>30.0000</td>\n",
       "      <td>0</td>\n",
       "      <td>0</td>\n",
       "      <td>1</td>\n",
       "    </tr>\n",
       "    <tr>\n",
       "      <th>890</th>\n",
       "      <td>891</td>\n",
       "      <td>32.0</td>\n",
       "      <td>7.7500</td>\n",
       "      <td>0</td>\n",
       "      <td>0</td>\n",
       "      <td>0</td>\n",
       "    </tr>\n",
       "  </tbody>\n",
       "</table>\n",
       "<p>891 rows × 6 columns</p>\n",
       "</div>"
      ],
      "text/plain": [
       "     PassengerId   Age     Fare  SibSp  Parch  Survived\n",
       "0              1  22.0   7.2500      1      0         0\n",
       "1              2  38.0  71.2833      1      0         1\n",
       "2              3  26.0   7.9250      0      0         1\n",
       "3              4  35.0  53.1000      1      0         1\n",
       "4              5  35.0   8.0500      0      0         0\n",
       "..           ...   ...      ...    ...    ...       ...\n",
       "886          887  27.0  13.0000      0      0         0\n",
       "887          888  19.0  30.0000      0      0         1\n",
       "888          889   NaN  23.4500      1      2         0\n",
       "889          890  26.0  30.0000      0      0         1\n",
       "890          891  32.0   7.7500      0      0         0\n",
       "\n",
       "[891 rows x 6 columns]"
      ]
     },
     "execution_count": 469,
     "metadata": {},
     "output_type": "execute_result"
    }
   ],
   "source": [
    "#construct data frame for continuous features and add label \n",
    "continous_df=pd.concat([features[variance_features],label],axis=1)\n",
    "continous_df"
   ]
  },
  {
   "cell_type": "code",
   "execution_count": 470,
   "id": "8b619e2c",
   "metadata": {},
   "outputs": [],
   "source": [
    "#calculate correlation between continuous features and label\n",
    "correlation = continous_df.corr()"
   ]
  },
  {
   "cell_type": "code",
   "execution_count": 471,
   "id": "692fb23e",
   "metadata": {},
   "outputs": [
    {
     "data": {
      "text/plain": [
       "<Axes: >"
      ]
     },
     "execution_count": 471,
     "metadata": {},
     "output_type": "execute_result"
    },
    {
     "data": {
      "image/png": "[encoded data removed]",
      "text/plain": [
       "<Figure size 500x300 with 2 Axes>"
      ]
     },
     "metadata": {},
     "output_type": "display_data"
    }
   ],
   "source": [
    "#visualize correlation in a heatmap, low correlation is blue, high correlation is red\n",
    "import seaborn as sns\n",
    "import matplotlib.pyplot as plt\n",
    "plt.figure(figsize=(5,3))\n",
    "sns.heatmap(correlation, annot=True, cmap='coolwarm')\n"
   ]
  },
  {
   "cell_type": "markdown",
   "id": "e846222b",
   "metadata": {},
   "source": [
    "We can see:\n",
    "- week correlation between fare and label, but no further correlations (although age should have an effect)\n",
    "- also not too many colinearities (age/sibsp, parch/sibsp)"
   ]
  },
  {
   "cell_type": "markdown",
   "id": "90168273",
   "metadata": {},
   "source": [
    "# Feature selection for numeric features and nominal label using anova-f statistic"
   ]
  },
  {
   "cell_type": "code",
   "execution_count": 473,
   "id": "8c23ea24",
   "metadata": {},
   "outputs": [],
   "source": [
    "continuous_features=features[variance_features]\n",
    "#,label"
   ]
  },
  {
   "cell_type": "code",
   "execution_count": 474,
   "id": "91bf77f2",
   "metadata": {},
   "outputs": [
    {
     "data": {
      "text/plain": [
       "count    714.000000\n",
       "mean      29.699118\n",
       "std       14.526497\n",
       "min        0.420000\n",
       "25%       20.125000\n",
       "50%       28.000000\n",
       "75%       38.000000\n",
       "max       80.000000\n",
       "Name: Age, dtype: float64"
      ]
     },
     "execution_count": 474,
     "metadata": {},
     "output_type": "execute_result"
    }
   ],
   "source": [
    "continuous_features['Age'].describe()"
   ]
  },
  {
   "cell_type": "code",
   "execution_count": 475,
   "id": "f996d1ac",
   "metadata": {},
   "outputs": [
    {
     "name": "stderr",
     "output_type": "stream",
     "text": [
      "C:\\Users\\Hendrik Meth\\AppData\\Local\\Temp\\ipykernel_25460\\795121854.py:3: SettingWithCopyWarning: \n",
      "A value is trying to be set on a copy of a slice from a DataFrame.\n",
      "Try using .loc[row_indexer,col_indexer] = value instead\n",
      "\n",
      "See the caveats in the documentation: https://pandas.pydata.org/pandas-docs/stable/user_guide/indexing.html#returning-a-view-versus-a-copy\n",
      "  continuous_features['Age_no_missing'] = age_no_missing\n"
     ]
    }
   ],
   "source": [
    "#create new feature \"Age_no_missing\" and fill missing values with mean\n",
    "age_no_missing = continuous_features['Age'].fillna(continuous_features['Age'].mean())\n",
    "continuous_features['Age_no_missing'] = age_no_missing\n",
    "\n",
    "#Remark: we need the replace missing values for anova test, but we should not replace missing values for the correlation test\n",
    "#because the correlation test will be biased if we replace missing values\n",
    "\n",
    "#drop 'Age' column\n",
    "continuous_features = continuous_features.drop(columns=['Age'])\n"
   ]
  },
  {
   "cell_type": "code",
   "execution_count": 476,
   "id": "dd2e2216",
   "metadata": {},
   "outputs": [
    {
     "data": {
      "text/html": [
       "<div>\n",
       "<style scoped>\n",
       "    .dataframe tbody tr th:only-of-type {\n",
       "        vertical-align: middle;\n",
       "    }\n",
       "\n",
       "    .dataframe tbody tr th {\n",
       "        vertical-align: top;\n",
       "    }\n",
       "\n",
       "    .dataframe thead th {\n",
       "        text-align: right;\n",
       "    }\n",
       "</style>\n",
       "<table border=\"1\" class=\"dataframe\">\n",
       "  <thead>\n",
       "    <tr style=\"text-align: right;\">\n",
       "      <th></th>\n",
       "      <th>p-value</th>\n",
       "    </tr>\n",
       "  </thead>\n",
       "  <tbody>\n",
       "    <tr>\n",
       "      <th>PassengerId</th>\n",
       "      <td>0.881366</td>\n",
       "    </tr>\n",
       "    <tr>\n",
       "      <th>Fare</th>\n",
       "      <td>0.0</td>\n",
       "    </tr>\n",
       "    <tr>\n",
       "      <th>SibSp</th>\n",
       "      <td>0.292244</td>\n",
       "    </tr>\n",
       "    <tr>\n",
       "      <th>Parch</th>\n",
       "      <td>0.014799</td>\n",
       "    </tr>\n",
       "    <tr>\n",
       "      <th>Age_no_missing</th>\n",
       "      <td>0.037217</td>\n",
       "    </tr>\n",
       "  </tbody>\n",
       "</table>\n",
       "</div>"
      ],
      "text/plain": [
       "                 p-value\n",
       "PassengerId     0.881366\n",
       "Fare                 0.0\n",
       "SibSp           0.292244\n",
       "Parch           0.014799\n",
       "Age_no_missing  0.037217"
      ]
     },
     "execution_count": 476,
     "metadata": {},
     "output_type": "execute_result"
    }
   ],
   "source": [
    "#create a new dataframe with p-values of anova test for each numeric feature with label\n",
    "from scipy.stats import f_oneway\n",
    "anova_p_values = pd.DataFrame(index=continuous_features.columns, columns=['p-value'])\n",
    "for i in continuous_features.columns:\n",
    "    data_anova = pd.concat([continuous_features[i], label], axis=1)\n",
    "    groups = []\n",
    "    for j in data_anova['Survived'].unique():\n",
    "        groups.append(data_anova[data_anova['Survived']==j][i])\n",
    "    stat, p = f_oneway(*groups)\n",
    "    anova_p_values.loc[i,'p-value'] = p\n",
    "anova_p_values\n"
   ]
  },
  {
   "cell_type": "markdown",
   "id": "feda674c",
   "metadata": {},
   "source": [
    "- Passenger Id ist not related to label (as expexted)\n",
    "- Fare is related (this is in sync with the correlation matrix)\n",
    "- Parch and Age are related (this is NOT in sync with the correlation matrix)\n",
    "- SibSp will be especially checked in the next section "
   ]
  },
  {
   "cell_type": "code",
   "execution_count": 477,
   "id": "7ce18bfa",
   "metadata": {},
   "outputs": [
    {
     "name": "stderr",
     "output_type": "stream",
     "text": [
      "C:\\Users\\Hendrik Meth\\AppData\\Local\\Temp\\ipykernel_25460\\1520951853.py:5: FutureWarning: The default of observed=False is deprecated and will be changed to True in a future version of pandas. Pass observed=False to retain current behavior or observed=True to adopt the future default and silence this warning.\n",
      "  age_groups = age_groups.groupby(['Age_group','Survived']).size().unstack()\n"
     ]
    },
    {
     "data": {
      "text/plain": [
       "<Axes: xlabel='Age_group'>"
      ]
     },
     "execution_count": 477,
     "metadata": {},
     "output_type": "execute_result"
    },
    {
     "data": {
      "image/png": "[encoded data removed]",
      "text/plain": [
       "<Figure size 640x480 with 1 Axes>"
      ]
     },
     "metadata": {},
     "output_type": "display_data"
    }
   ],
   "source": [
    "#create a stacked bar plot of the relative survival/non survial for age groups in 10 year bins\n",
    "age_bins = pd.cut(continuous_features['Age_no_missing'], bins=np.arange(0,90,10))\n",
    "age_bins = age_bins.rename('Age_group')\n",
    "age_groups = pd.concat([age_bins, label], axis=1)\n",
    "age_groups = age_groups.groupby(['Age_group','Survived']).size().unstack()\n",
    "age_groups = age_groups.div(age_groups.sum(axis=1), axis=0)\n",
    "age_groups.plot(kind='bar', stacked=True)\n",
    "\n"
   ]
  },
  {
   "cell_type": "markdown",
   "id": "97146c0e",
   "metadata": {},
   "source": [
    "# Feature selection for non-continous data using chi2 test (label=class)"
   ]
  },
  {
   "cell_type": "code",
   "execution_count": 478,
   "id": "64d31956",
   "metadata": {},
   "outputs": [
    {
     "data": {
      "text/html": [
       "<div>\n",
       "<style scoped>\n",
       "    .dataframe tbody tr th:only-of-type {\n",
       "        vertical-align: middle;\n",
       "    }\n",
       "\n",
       "    .dataframe tbody tr th {\n",
       "        vertical-align: top;\n",
       "    }\n",
       "\n",
       "    .dataframe thead th {\n",
       "        text-align: right;\n",
       "    }\n",
       "</style>\n",
       "<table border=\"1\" class=\"dataframe\">\n",
       "  <thead>\n",
       "    <tr style=\"text-align: right;\">\n",
       "      <th></th>\n",
       "      <th>Pclass</th>\n",
       "      <th>Name</th>\n",
       "      <th>Sex</th>\n",
       "      <th>SibSp</th>\n",
       "      <th>Parch</th>\n",
       "      <th>Ticket</th>\n",
       "      <th>Cabin</th>\n",
       "      <th>Embarked</th>\n",
       "      <th>Survived</th>\n",
       "    </tr>\n",
       "  </thead>\n",
       "  <tbody>\n",
       "    <tr>\n",
       "      <th>0</th>\n",
       "      <td>3</td>\n",
       "      <td>Braund, Mr. Owen Harris</td>\n",
       "      <td>male</td>\n",
       "      <td>1</td>\n",
       "      <td>0</td>\n",
       "      <td>A/5 21171</td>\n",
       "      <td>NaN</td>\n",
       "      <td>S</td>\n",
       "      <td>0</td>\n",
       "    </tr>\n",
       "    <tr>\n",
       "      <th>1</th>\n",
       "      <td>1</td>\n",
       "      <td>Cumings, Mrs. John Bradley (Florence Briggs Th...</td>\n",
       "      <td>female</td>\n",
       "      <td>1</td>\n",
       "      <td>0</td>\n",
       "      <td>PC 17599</td>\n",
       "      <td>C85</td>\n",
       "      <td>C</td>\n",
       "      <td>1</td>\n",
       "    </tr>\n",
       "    <tr>\n",
       "      <th>2</th>\n",
       "      <td>3</td>\n",
       "      <td>Heikkinen, Miss. Laina</td>\n",
       "      <td>female</td>\n",
       "      <td>0</td>\n",
       "      <td>0</td>\n",
       "      <td>STON/O2. 3101282</td>\n",
       "      <td>NaN</td>\n",
       "      <td>S</td>\n",
       "      <td>1</td>\n",
       "    </tr>\n",
       "    <tr>\n",
       "      <th>3</th>\n",
       "      <td>1</td>\n",
       "      <td>Futrelle, Mrs. Jacques Heath (Lily May Peel)</td>\n",
       "      <td>female</td>\n",
       "      <td>1</td>\n",
       "      <td>0</td>\n",
       "      <td>113803</td>\n",
       "      <td>C123</td>\n",
       "      <td>S</td>\n",
       "      <td>1</td>\n",
       "    </tr>\n",
       "    <tr>\n",
       "      <th>4</th>\n",
       "      <td>3</td>\n",
       "      <td>Allen, Mr. William Henry</td>\n",
       "      <td>male</td>\n",
       "      <td>0</td>\n",
       "      <td>0</td>\n",
       "      <td>373450</td>\n",
       "      <td>NaN</td>\n",
       "      <td>S</td>\n",
       "      <td>0</td>\n",
       "    </tr>\n",
       "    <tr>\n",
       "      <th>...</th>\n",
       "      <td>...</td>\n",
       "      <td>...</td>\n",
       "      <td>...</td>\n",
       "      <td>...</td>\n",
       "      <td>...</td>\n",
       "      <td>...</td>\n",
       "      <td>...</td>\n",
       "      <td>...</td>\n",
       "      <td>...</td>\n",
       "    </tr>\n",
       "    <tr>\n",
       "      <th>886</th>\n",
       "      <td>2</td>\n",
       "      <td>Montvila, Rev. Juozas</td>\n",
       "      <td>male</td>\n",
       "      <td>0</td>\n",
       "      <td>0</td>\n",
       "      <td>211536</td>\n",
       "      <td>NaN</td>\n",
       "      <td>S</td>\n",
       "      <td>0</td>\n",
       "    </tr>\n",
       "    <tr>\n",
       "      <th>887</th>\n",
       "      <td>1</td>\n",
       "      <td>Graham, Miss. Margaret Edith</td>\n",
       "      <td>female</td>\n",
       "      <td>0</td>\n",
       "      <td>0</td>\n",
       "      <td>112053</td>\n",
       "      <td>B42</td>\n",
       "      <td>S</td>\n",
       "      <td>1</td>\n",
       "    </tr>\n",
       "    <tr>\n",
       "      <th>888</th>\n",
       "      <td>3</td>\n",
       "      <td>Johnston, Miss. Catherine Helen \"Carrie\"</td>\n",
       "      <td>female</td>\n",
       "      <td>1</td>\n",
       "      <td>2</td>\n",
       "      <td>W./C. 6607</td>\n",
       "      <td>NaN</td>\n",
       "      <td>S</td>\n",
       "      <td>0</td>\n",
       "    </tr>\n",
       "    <tr>\n",
       "      <th>889</th>\n",
       "      <td>1</td>\n",
       "      <td>Behr, Mr. Karl Howell</td>\n",
       "      <td>male</td>\n",
       "      <td>0</td>\n",
       "      <td>0</td>\n",
       "      <td>111369</td>\n",
       "      <td>C148</td>\n",
       "      <td>C</td>\n",
       "      <td>1</td>\n",
       "    </tr>\n",
       "    <tr>\n",
       "      <th>890</th>\n",
       "      <td>3</td>\n",
       "      <td>Dooley, Mr. Patrick</td>\n",
       "      <td>male</td>\n",
       "      <td>0</td>\n",
       "      <td>0</td>\n",
       "      <td>370376</td>\n",
       "      <td>NaN</td>\n",
       "      <td>Q</td>\n",
       "      <td>0</td>\n",
       "    </tr>\n",
       "  </tbody>\n",
       "</table>\n",
       "<p>891 rows × 9 columns</p>\n",
       "</div>"
      ],
      "text/plain": [
       "     Pclass                                               Name     Sex  SibSp  \\\n",
       "0         3                            Braund, Mr. Owen Harris    male      1   \n",
       "1         1  Cumings, Mrs. John Bradley (Florence Briggs Th...  female      1   \n",
       "2         3                             Heikkinen, Miss. Laina  female      0   \n",
       "3         1       Futrelle, Mrs. Jacques Heath (Lily May Peel)  female      1   \n",
       "4         3                           Allen, Mr. William Henry    male      0   \n",
       "..      ...                                                ...     ...    ...   \n",
       "886       2                              Montvila, Rev. Juozas    male      0   \n",
       "887       1                       Graham, Miss. Margaret Edith  female      0   \n",
       "888       3           Johnston, Miss. Catherine Helen \"Carrie\"  female      1   \n",
       "889       1                              Behr, Mr. Karl Howell    male      0   \n",
       "890       3                                Dooley, Mr. Patrick    male      0   \n",
       "\n",
       "     Parch            Ticket Cabin Embarked  Survived  \n",
       "0        0         A/5 21171   NaN        S         0  \n",
       "1        0          PC 17599   C85        C         1  \n",
       "2        0  STON/O2. 3101282   NaN        S         1  \n",
       "3        0            113803  C123        S         1  \n",
       "4        0            373450   NaN        S         0  \n",
       "..     ...               ...   ...      ...       ...  \n",
       "886      0            211536   NaN        S         0  \n",
       "887      0            112053   B42        S         1  \n",
       "888      2        W./C. 6607   NaN        S         0  \n",
       "889      0            111369  C148        C         1  \n",
       "890      0            370376   NaN        Q         0  \n",
       "\n",
       "[891 rows x 9 columns]"
      ]
     },
     "execution_count": 478,
     "metadata": {},
     "output_type": "execute_result"
    }
   ],
   "source": [
    "#construct a new dataframe with all features except age, fare, Passenger ID and the normalized features\n",
    "features_non_continous = features.drop(columns=['PassengerId','Age', 'Fare','PassengerId_normalized','Age_normalized', 'Fare_normalized','SibSp_normalized','Parch_normalized'])\n",
    "\n",
    "#combine features_non_continous with label\n",
    "non_continous_df = pd.concat([features_non_continous,label],axis=1)\n",
    "non_continous_df"
   ]
  },
  {
   "cell_type": "code",
   "execution_count": 479,
   "id": "b9d5a15a",
   "metadata": {},
   "outputs": [
    {
     "data": {
      "text/html": [
       "<div>\n",
       "<style scoped>\n",
       "    .dataframe tbody tr th:only-of-type {\n",
       "        vertical-align: middle;\n",
       "    }\n",
       "\n",
       "    .dataframe tbody tr th {\n",
       "        vertical-align: top;\n",
       "    }\n",
       "\n",
       "    .dataframe thead th {\n",
       "        text-align: right;\n",
       "    }\n",
       "</style>\n",
       "<table border=\"1\" class=\"dataframe\">\n",
       "  <thead>\n",
       "    <tr style=\"text-align: right;\">\n",
       "      <th></th>\n",
       "      <th>Pclass</th>\n",
       "      <th>Name</th>\n",
       "      <th>Sex</th>\n",
       "      <th>SibSp</th>\n",
       "      <th>Parch</th>\n",
       "      <th>Ticket</th>\n",
       "      <th>Cabin</th>\n",
       "      <th>Embarked</th>\n",
       "      <th>Survived</th>\n",
       "    </tr>\n",
       "  </thead>\n",
       "  <tbody>\n",
       "    <tr>\n",
       "      <th>Pclass</th>\n",
       "      <td>0.0</td>\n",
       "      <td>0.482181</td>\n",
       "      <td>0.000206</td>\n",
       "      <td>0.000001</td>\n",
       "      <td>0.378539</td>\n",
       "      <td>0.0</td>\n",
       "      <td>0.000008</td>\n",
       "      <td>0.0</td>\n",
       "      <td>0.0</td>\n",
       "    </tr>\n",
       "    <tr>\n",
       "      <th>Name</th>\n",
       "      <td>0.482181</td>\n",
       "      <td>0.239668</td>\n",
       "      <td>0.484248</td>\n",
       "      <td>0.474291</td>\n",
       "      <td>0.474291</td>\n",
       "      <td>0.268138</td>\n",
       "      <td>0.273778</td>\n",
       "      <td>0.482161</td>\n",
       "      <td>0.484248</td>\n",
       "    </tr>\n",
       "    <tr>\n",
       "      <th>Sex</th>\n",
       "      <td>0.000206</td>\n",
       "      <td>0.484248</td>\n",
       "      <td>0.0</td>\n",
       "      <td>0.0</td>\n",
       "      <td>0.0</td>\n",
       "      <td>0.714624</td>\n",
       "      <td>0.381402</td>\n",
       "      <td>0.001259</td>\n",
       "      <td>0.0</td>\n",
       "    </tr>\n",
       "    <tr>\n",
       "      <th>SibSp</th>\n",
       "      <td>0.000001</td>\n",
       "      <td>0.474291</td>\n",
       "      <td>0.0</td>\n",
       "      <td>0.0</td>\n",
       "      <td>0.0</td>\n",
       "      <td>0.00002</td>\n",
       "      <td>0.0016</td>\n",
       "      <td>0.007704</td>\n",
       "      <td>0.000002</td>\n",
       "    </tr>\n",
       "    <tr>\n",
       "      <th>Parch</th>\n",
       "      <td>0.378539</td>\n",
       "      <td>0.474291</td>\n",
       "      <td>0.0</td>\n",
       "      <td>0.0</td>\n",
       "      <td>0.0</td>\n",
       "      <td>1.0</td>\n",
       "      <td>0.775714</td>\n",
       "      <td>0.1585</td>\n",
       "      <td>0.000097</td>\n",
       "    </tr>\n",
       "    <tr>\n",
       "      <th>Ticket</th>\n",
       "      <td>0.0</td>\n",
       "      <td>0.268138</td>\n",
       "      <td>0.714624</td>\n",
       "      <td>0.00002</td>\n",
       "      <td>1.0</td>\n",
       "      <td>0.0</td>\n",
       "      <td>0.0</td>\n",
       "      <td>0.0</td>\n",
       "      <td>0.011527</td>\n",
       "    </tr>\n",
       "    <tr>\n",
       "      <th>Cabin</th>\n",
       "      <td>0.000008</td>\n",
       "      <td>0.273778</td>\n",
       "      <td>0.381402</td>\n",
       "      <td>0.0016</td>\n",
       "      <td>0.775714</td>\n",
       "      <td>0.0</td>\n",
       "      <td>0.0</td>\n",
       "      <td>0.002031</td>\n",
       "      <td>0.183574</td>\n",
       "    </tr>\n",
       "    <tr>\n",
       "      <th>Embarked</th>\n",
       "      <td>0.0</td>\n",
       "      <td>0.482161</td>\n",
       "      <td>0.001259</td>\n",
       "      <td>0.007704</td>\n",
       "      <td>0.1585</td>\n",
       "      <td>0.0</td>\n",
       "      <td>0.002031</td>\n",
       "      <td>0.0</td>\n",
       "      <td>0.000002</td>\n",
       "    </tr>\n",
       "    <tr>\n",
       "      <th>Survived</th>\n",
       "      <td>0.0</td>\n",
       "      <td>0.484248</td>\n",
       "      <td>0.0</td>\n",
       "      <td>0.000002</td>\n",
       "      <td>0.000097</td>\n",
       "      <td>0.011527</td>\n",
       "      <td>0.183574</td>\n",
       "      <td>0.000002</td>\n",
       "      <td>0.0</td>\n",
       "    </tr>\n",
       "  </tbody>\n",
       "</table>\n",
       "</div>"
      ],
      "text/plain": [
       "            Pclass      Name       Sex     SibSp     Parch    Ticket  \\\n",
       "Pclass         0.0  0.482181  0.000206  0.000001  0.378539       0.0   \n",
       "Name      0.482181  0.239668  0.484248  0.474291  0.474291  0.268138   \n",
       "Sex       0.000206  0.484248       0.0       0.0       0.0  0.714624   \n",
       "SibSp     0.000001  0.474291       0.0       0.0       0.0   0.00002   \n",
       "Parch     0.378539  0.474291       0.0       0.0       0.0       1.0   \n",
       "Ticket         0.0  0.268138  0.714624   0.00002       1.0       0.0   \n",
       "Cabin     0.000008  0.273778  0.381402    0.0016  0.775714       0.0   \n",
       "Embarked       0.0  0.482161  0.001259  0.007704    0.1585       0.0   \n",
       "Survived       0.0  0.484248       0.0  0.000002  0.000097  0.011527   \n",
       "\n",
       "             Cabin  Embarked  Survived  \n",
       "Pclass    0.000008       0.0       0.0  \n",
       "Name      0.273778  0.482161  0.484248  \n",
       "Sex       0.381402  0.001259       0.0  \n",
       "SibSp       0.0016  0.007704  0.000002  \n",
       "Parch     0.775714    0.1585  0.000097  \n",
       "Ticket         0.0       0.0  0.011527  \n",
       "Cabin          0.0  0.002031  0.183574  \n",
       "Embarked  0.002031       0.0  0.000002  \n",
       "Survived  0.183574  0.000002       0.0  "
      ]
     },
     "execution_count": 479,
     "metadata": {},
     "output_type": "execute_result"
    }
   ],
   "source": [
    "# perform chi-squared test for nominal features\n",
    "from scipy.stats import chi2_contingency\n",
    "\n",
    "non_cont_columns = non_continous_df.columns\n",
    "\n",
    "#create a new dataframe which contains chi2 values for all feature combinations\n",
    "chi2_values = pd.DataFrame(index=non_cont_columns, columns=non_cont_columns)\n",
    "for i in non_cont_columns:\n",
    "    for j in non_cont_columns:\n",
    "        df_chi2 = non_continous_df[[i,j]]\n",
    "        data_cont=pd.crosstab(df_chi2.iloc[:,0], df_chi2.iloc[:,1])\n",
    "        stat, p, dof, expected = chi2_contingency(data_cont)\n",
    "        chi2_values.loc[i,j] = p\n",
    "chi2_values"
   ]
  },
  {
   "cell_type": "code",
   "execution_count": 439,
   "id": "6c521b50",
   "metadata": {},
   "outputs": [],
   "source": [
    "#!pip install --upgrade seaborn\n"
   ]
  },
  {
   "cell_type": "code",
   "execution_count": 480,
   "id": "8ef901d6",
   "metadata": {},
   "outputs": [
    {
     "data": {
      "text/plain": [
       "<Axes: >"
      ]
     },
     "execution_count": 480,
     "metadata": {},
     "output_type": "execute_result"
    },
    {
     "data": {
      "image/png": "[encoded data removed]",
      "text/plain": [
       "<Figure size 500x300 with 1 Axes>"
      ]
     },
     "metadata": {},
     "output_type": "display_data"
    }
   ],
   "source": [
    "#display chi2 p-values as a color coded heatmap with a threshold of 0.05, round p-values to 2 digits\n",
    "plt.figure(figsize=(5,3))\n",
    "sns.heatmap(round(chi2_values.astype(float),3), annot=True, cmap='coolwarm', cbar=False, vmin=0, vmax=0.05)\n"
   ]
  },
  {
   "cell_type": "markdown",
   "id": "25a537af",
   "metadata": {},
   "source": [
    "- We see a lot of relationships between the features\n",
    "- Passenger Class and Sex are related to label, which is no surprise\n",
    "- SibSp and Parch were assumed to be related, which is proven here (note that they were not sufficiently correlated)\n",
    "- Even Ticket and Embarked seem to be useful\n",
    "\n",
    "Let's see how these features relate to the label in a diagram"
   ]
  },
  {
   "cell_type": "code",
   "execution_count": 481,
   "id": "7ee2f576",
   "metadata": {},
   "outputs": [
    {
     "data": {
      "image/png": "[encoded data removed]",
      "text/plain": [
       "<Figure size 640x480 with 1 Axes>"
      ]
     },
     "metadata": {},
     "output_type": "display_data"
    },
    {
     "data": {
      "image/png": "[encoded data removed]",
      "text/plain": [
       "<Figure size 640x480 with 1 Axes>"
      ]
     },
     "metadata": {},
     "output_type": "display_data"
    },
    {
     "data": {
      "image/png": "[encoded data removed]",
      "text/plain": [
       "<Figure size 640x480 with 1 Axes>"
      ]
     },
     "metadata": {},
     "output_type": "display_data"
    },
    {
     "data": {
      "image/png": "[encoded data removed]",
      "text/plain": [
       "<Figure size 640x480 with 1 Axes>"
      ]
     },
     "metadata": {},
     "output_type": "display_data"
    },
    {
     "data": {
      "image/png": "[encoded data removed]",
      "text/plain": [
       "<Figure size 640x480 with 1 Axes>"
      ]
     },
     "metadata": {},
     "output_type": "display_data"
    }
   ],
   "source": [
    "columns_of_interest = ['Pclass','Sex','SibSp','Parch','Embarked']\n",
    "#create a stacked bar plot of the relative survival/non survial for columns of interest\n",
    "for col in columns_of_interest:\n",
    "    data = pd.crosstab(non_continous_df[col], non_continous_df['Survived'])\n",
    "    data = data.div(data.sum(axis=1), axis=0)\n",
    "    data.plot(kind='bar', stacked=True)\n",
    "    plt.title(col)\n",
    "    plt.show()\n",
    "\n"
   ]
  },
  {
   "cell_type": "markdown",
   "id": "a79ad06c",
   "metadata": {},
   "source": [
    "Finally we will check the feature \"Ticket\""
   ]
  },
  {
   "cell_type": "code",
   "execution_count": 482,
   "id": "2e2b2008",
   "metadata": {},
   "outputs": [
    {
     "data": {
      "text/plain": [
       "0             A/5 21171\n",
       "1              PC 17599\n",
       "2      STON/O2. 3101282\n",
       "3                113803\n",
       "4                373450\n",
       "             ...       \n",
       "886              211536\n",
       "887              112053\n",
       "888          W./C. 6607\n",
       "889              111369\n",
       "890              370376\n",
       "Name: Ticket, Length: 891, dtype: object"
      ]
     },
     "execution_count": 482,
     "metadata": {},
     "output_type": "execute_result"
    }
   ],
   "source": [
    "non_continous_df['Ticket']"
   ]
  },
  {
   "cell_type": "code",
   "execution_count": 483,
   "id": "31a180b4",
   "metadata": {},
   "outputs": [
    {
     "data": {
      "text/plain": [
       "Ticket\n",
       "6     419\n",
       "5     131\n",
       "4     101\n",
       "8      76\n",
       "10     41\n",
       "7      27\n",
       "9      26\n",
       "17     14\n",
       "16     11\n",
       "12     10\n",
       "13     10\n",
       "15      9\n",
       "11      8\n",
       "18      6\n",
       "3       2\n",
       "Name: count, dtype: int64"
      ]
     },
     "execution_count": 483,
     "metadata": {},
     "output_type": "execute_result"
    }
   ],
   "source": [
    "#show length of values in feature 'Ticket'\n",
    "non_continous_df['Ticket'].str.len().value_counts()"
   ]
  },
  {
   "cell_type": "code",
   "execution_count": 484,
   "id": "2f9f6253",
   "metadata": {},
   "outputs": [],
   "source": [
    "#create a new feature 'Ticket_length' and fill missing values with mean\n",
    "ticket_length = non_continous_df['Ticket'].str.len().fillna(non_continous_df['Ticket'].str.len().mean())"
   ]
  },
  {
   "cell_type": "code",
   "execution_count": 485,
   "id": "d47002b3",
   "metadata": {},
   "outputs": [
    {
     "name": "stderr",
     "output_type": "stream",
     "text": [
      "C:\\Users\\Hendrik Meth\\AppData\\Local\\Temp\\ipykernel_25460\\1127963806.py:5: FutureWarning: The default of observed=False is deprecated and will be changed to True in a future version of pandas. Pass observed=False to retain current behavior or observed=True to adopt the future default and silence this warning.\n",
      "  ticket_length_groups = ticket_length_groups.groupby(['Ticket_length_group','Survived']).size().unstack()\n"
     ]
    },
    {
     "data": {
      "text/plain": [
       "<Axes: xlabel='Ticket_length_group'>"
      ]
     },
     "execution_count": 485,
     "metadata": {},
     "output_type": "execute_result"
    },
    {
     "data": {
      "image/png": "[encoded data removed]",
      "text/plain": [
       "<Figure size 640x480 with 1 Axes>"
      ]
     },
     "metadata": {},
     "output_type": "display_data"
    }
   ],
   "source": [
    "#create three groups for ticket length: < 6, 6, > 6 and plot the relative survival/non survival\n",
    "ticket_length_groups = pd.cut(ticket_length, bins=[0,5,6,15])\n",
    "ticket_length_groups = ticket_length_groups.rename('Ticket_length_group')\n",
    "ticket_length_groups = pd.concat([ticket_length_groups, label], axis=1)\n",
    "ticket_length_groups = ticket_length_groups.groupby(['Ticket_length_group','Survived']).size().unstack()\n",
    "ticket_length_groups = ticket_length_groups.div(ticket_length_groups.sum(axis=1), axis=0)\n",
    "ticket_length_groups.plot(kind='bar', stacked=True)\n"
   ]
  },
  {
   "cell_type": "code",
   "execution_count": 486,
   "id": "10077d37",
   "metadata": {},
   "outputs": [
    {
     "name": "stderr",
     "output_type": "stream",
     "text": [
      "C:\\Users\\Hendrik Meth\\AppData\\Local\\Temp\\ipykernel_25460\\3703124230.py:5: FutureWarning: The default of observed=False is deprecated and will be changed to True in a future version of pandas. Pass observed=False to retain current behavior or observed=True to adopt the future default and silence this warning.\n",
      "  ticket_length_groups = ticket_length_groups.groupby(['Ticket_length_group','Survived']).size().unstack()\n"
     ]
    },
    {
     "data": {
      "text/plain": [
       "<Axes: xlabel='Ticket_length_group'>"
      ]
     },
     "execution_count": 486,
     "metadata": {},
     "output_type": "execute_result"
    },
    {
     "data": {
      "image/png": "[encoded data removed]",
      "text/plain": [
       "<Figure size 640x480 with 1 Axes>"
      ]
     },
     "metadata": {},
     "output_type": "display_data"
    }
   ],
   "source": [
    "#create three groups for ticket length: < 6, 6, > 6 and plot the relative survival/non survival\n",
    "ticket_length_groups = pd.cut(ticket_length, bins=[0,5,6,15])\n",
    "ticket_length_groups = ticket_length_groups.rename('Ticket_length_group')\n",
    "ticket_length_groups = pd.concat([ticket_length_groups, label], axis=1)\n",
    "ticket_length_groups = ticket_length_groups.groupby(['Ticket_length_group','Survived']).size().unstack()\n",
    "ticket_length_groups = ticket_length_groups.div(ticket_length_groups.sum(axis=1), axis=0)\n",
    "ticket_length_groups.plot(kind='bar', stacked=True)"
   ]
  },
  {
   "cell_type": "code",
   "execution_count": 491,
   "id": "3548a8a1",
   "metadata": {},
   "outputs": [
    {
     "name": "stderr",
     "output_type": "stream",
     "text": [
      "C:\\Users\\Hendrik Meth\\AppData\\Local\\Temp\\ipykernel_25460\\553139613.py:6: FutureWarning: The default of observed=False is deprecated and will be changed to True in a future version of pandas. Pass observed=False to retain current behavior or observed=True to adopt the future default and silence this warning.\n",
      "  ticket_length_groups_pclass = ticket_length_groups_pclass.groupby(['Ticket_length_group','Pclass']).size().unstack()\n"
     ]
    },
    {
     "data": {
      "text/plain": [
       "<Axes: xlabel='Ticket_length_group'>"
      ]
     },
     "execution_count": 491,
     "metadata": {},
     "output_type": "execute_result"
    },
    {
     "data": {
      "image/png": "[encoded data removed]",
      "text/plain": [
       "<Figure size 640x480 with 1 Axes>"
      ]
     },
     "metadata": {},
     "output_type": "display_data"
    }
   ],
   "source": [
    "#create a stacked bar plot showing ticket length groups and PClass\n",
    "ticket_length_groups = pd.cut(ticket_length, bins=[0,5,6,15])\n",
    "ticket_length_groups = ticket_length_groups.rename('Ticket_length_group')\n",
    "\n",
    "ticket_length_groups_pclass = pd.concat([ticket_length_groups, non_continous_df['Pclass']], axis=1)\n",
    "ticket_length_groups_pclass = ticket_length_groups_pclass.groupby(['Ticket_length_group','Pclass']).size().unstack()\n",
    "ticket_length_groups_pclass = ticket_length_groups_pclass.div(ticket_length_groups_pclass.sum(axis=1), axis=0)\n",
    "ticket_length_groups_pclass.plot(kind='bar', stacked=True)\n",
    "\n",
    "\n"
   ]
  },
  {
   "cell_type": "markdown",
   "id": "ee38f385",
   "metadata": {},
   "source": [
    "# Summary\n",
    "- Analysis of variance: Age, SibSp, Parch, Fare should be selected in this sequence\n",
    "- Analysis of variation ratio: Pclass, Sex, SibSp, Parch, Embarked should be selected in this sequence\n",
    "- Analyis of correlation: only Fare looks promising\n",
    "- Anova test: Fare, Parch and Age should be selected\n",
    "- Chi square: Pclass, Sex, Embarked, Sibsp and Parch are related and even ticket (which is related to Pclass)\n",
    "\n",
    "# Conclusion\n",
    "- 8 out of 11 features seem to be promising predictors, altough correlation analysis just suggested to take \"Fare\"\n",
    "- Only PassengerID, Name and Cabin do not seem to be relevant"
   ]
  }
 ],
 "metadata": {
  "kernelspec": {
   "display_name": ".venv",
   "language": "python",
   "name": "python3"
  },
  "language_info": {
   "codemirror_mode": {
    "name": "ipython",
    "version": 3
   },
   "file_extension": ".py",
   "mimetype": "text/x-python",
   "name": "python",
   "nbconvert_exporter": "python",
   "pygments_lexer": "ipython3",
   "version": "3.13.1"
  }
 },
 "nbformat": 4,
 "nbformat_minor": 5
}
