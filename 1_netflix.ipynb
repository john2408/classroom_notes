{
 "cells": [
  {
   "cell_type": "markdown",
   "metadata": {
    "id": "YC11wo9QzoM_"
   },
   "source": [
    "**Wichtige Hinweise**\n",
    "\n",
    "- Aktivieren Sie die entsprechende Conda-Umgebung bevor Sie beginnen.\n",
    "\n",
    "- Geben Sie als `NAME` ihr HdM-Kürzel an.\n",
    "\n",
    "- Ändern Sie **nicht** den Namen der Datei und löschen Sie keine Zellen.\n",
    "\n",
    "- Bearbeiten Sie alle Zellen mit dem Hinweis <font color='green'> \\# YOUR CODE HERE </font>\n",
    "\n",
    "- Die Funktion **NotImplementedError()** soll die Abgabe von leeren Zellen verhindern. Löschen Sie die Funktion, sobald Sie in einer dieser Zellen arbeiten.\n",
    "\n",
    "- Stellen Sie sicher, dass alles wie erwartet läuft, bevor Sie die Prüfung abgeben: Starten Sie den Kernel neu und führen Sie alle Zellen aus: wählen Sie \"Restart\" und dann \"Run All\""
   ]
  },
  {
   "cell_type": "code",
   "execution_count": 1,
   "metadata": {
    "id": "YVsTMTXuzoNA"
   },
   "outputs": [],
   "source": [
    "NAME = \"JOHN\""
   ]
  },
  {
   "cell_type": "code",
   "execution_count": 2,
   "metadata": {
    "id": "8PTGpYjAzoNA"
   },
   "outputs": [],
   "source": [
    "import IPython\n",
    "assert IPython.version_info[0] >= 3, \"Your version of IPython is too old, please update it.\""
   ]
  },
  {
   "cell_type": "markdown",
   "metadata": {
    "id": "x20xT1WszoNA"
   },
   "source": [
    "---"
   ]
  },
  {
   "cell_type": "markdown",
   "metadata": {
    "id": "z4M1x5o4zoNB"
   },
   "source": [
    "# Netflix user engagement analyse"
   ]
  },
  {
   "cell_type": "markdown",
   "metadata": {
    "id": "sDD8IjtzzoNB"
   },
   "source": [
    "## Setup"
   ]
  },
  {
   "cell_type": "code",
   "execution_count": 3,
   "metadata": {
    "id": "8-G6yN2SzoNB",
    "tags": []
   },
   "outputs": [],
   "source": [
    "# Wir importieren die Bibliothek pandas\n",
    "import pandas as pd"
   ]
  },
  {
   "cell_type": "markdown",
   "metadata": {
    "id": "PmF1a6XJzoNB"
   },
   "source": [
    "---\n",
    "## Daten\n",
    "\n",
    "### Daten importieren (2 Punkte)\n",
    "\n",
    "- Wir haben Pandas mit der Bezeichnung `pd` importiert.\n",
    "\n",
    "- Die Pandas-Funktion zum Einlesen von CSV-Dateien: `.read_csv`\n",
    "\n",
    "- CSV-Daten mit Pandas importieren und mit der Bezeichnung `df` speichern.\n",
    "\n",
    "- Pfad zu den Daten in GitHub: 'https://raw.githubusercontent.com/kirenz/datasets/master/netflix.csv'\n",
    "\n",
    "\n",
    "- Hinweis:\n",
    "\n",
    "```python\n",
    "___ = ___.___(___)\n",
    "```"
   ]
  },
  {
   "cell_type": "code",
   "execution_count": 4,
   "metadata": {
    "deletable": false,
    "id": "co1TiDVizoNB",
    "nbgrader": {
     "cell_type": "code",
     "checksum": "9db3ca972642b1447dba3ebd5f2db24b",
     "grade": false,
     "grade_id": "import",
     "locked": false,
     "schema_version": 3,
     "solution": true,
     "task": false
    },
    "tags": []
   },
   "outputs": [],
   "source": [
    "# YOUR CODE HERE\n",
    "URL = 'https://raw.githubusercontent.com/kirenz/datasets/master/netflix.csv'\n",
    "df = pd.read_csv(URL)"
   ]
  },
  {
   "cell_type": "code",
   "execution_count": 5,
   "metadata": {},
   "outputs": [
    {
     "name": "stdout",
     "output_type": "stream",
     "text": [
      "<class 'pandas.core.frame.DataFrame'>\n",
      "RangeIndex: 2000 entries, 0 to 1999\n",
      "Data columns (total 2 columns):\n",
      " #   Column   Non-Null Count  Dtype \n",
      "---  ------   --------------  ----- \n",
      " 0   group    2000 non-null   object\n",
      " 1   outcome  2000 non-null   object\n",
      "dtypes: object(2)\n",
      "memory usage: 31.4+ KB\n"
     ]
    }
   ],
   "source": [
    "df.info()"
   ]
  },
  {
   "cell_type": "code",
   "execution_count": 6,
   "metadata": {
    "deletable": false,
    "editable": false,
    "id": "s6OSS0ZUzoNB",
    "nbgrader": {
     "cell_type": "code",
     "checksum": "5b57079732c6166dea9ead30926b2249",
     "grade": true,
     "grade_id": "correct_import",
     "locked": true,
     "points": 2,
     "schema_version": 3,
     "solution": false,
     "task": false
    }
   },
   "outputs": [],
   "source": [
    "\"\"\"Check that df returns the correct output\"\"\"\n",
    "assert len(df) == 2000\n",
    "assert df.columns.tolist() == ['group', 'outcome']"
   ]
  },
  {
   "cell_type": "markdown",
   "metadata": {
    "id": "0hXyU1o-zoNB"
   },
   "source": [
    "---\n",
    "## Analyse\n",
    "\n",
    "### Kreuztabelle (4 Punkte)\n",
    "\n",
    "Schreiben Sie den Code, der eine Kreuztabelle erzeugt erzeugt:\n",
    "\n",
    "- Speichern Sie die Tabelle unter der Bezeichnung: `cross_table`\n",
    "- Die Funktion in Pandas zur Erzeugung von Kreuztabellen: `.crosstab(ZEILEN, SPALTEN)`\n",
    "- Als Zeilen diese Variable nutzen: `group`\n",
    "- Als Spalten diese Variable nutzen: `outcome`\n",
    "- Geben Sie die Spalten- und Zeilensummen aus (`margins=True`)\n",
    "- Geben Sie die Werte als Prozentwerte aus (`normalize=True`)\n",
    "- Die Variable `group` soll in der Tabelle \"Gruppe\" genannt werden (`rownames`)\n",
    "- Die Variable `outcome` soll in der Tabelle \"Ergebnis\" genannt werden (`colnames`)\n",
    "- Formatierung der Prozent-Werte mit Multiplikation: bspw. sollte ein Wert von 0.1775 als 17.75 angezeigt werden\n",
    "- Geben Sie die Tabelle aus\n",
    "\n",
    "- Hinweis:\n",
    "\n",
    "```python\n",
    "\n",
    "___ = __.__(df['___'], df['___'],\n",
    "            ___=True, # Spalten- und Zeilensumme\n",
    "            ___=True, # Prozentwerte\n",
    "            rownames=['___'],  # Umbenennung der Zeilen\n",
    "            colnames=['___'] # Umbenennung der Spalten\n",
    "            ) * ___ # Multiplikation mit 100 für eine bessere Darstellung der Prozentwerte\n",
    "\n",
    "___\n",
    "\n",
    "```"
   ]
  },
  {
   "cell_type": "code",
   "execution_count": 7,
   "metadata": {},
   "outputs": [],
   "source": [
    "cross_table = pd.crosstab(df['group'], df['outcome'], rownames=['Gruppe'], colnames=['Ergebniss'], margins=True, normalize=True) * 100"
   ]
  },
  {
   "cell_type": "code",
   "execution_count": 12,
   "metadata": {},
   "outputs": [
    {
     "data": {
      "text/html": [
       "<div>\n",
       "<style scoped>\n",
       "    .dataframe tbody tr th:only-of-type {\n",
       "        vertical-align: middle;\n",
       "    }\n",
       "\n",
       "    .dataframe tbody tr th {\n",
       "        vertical-align: top;\n",
       "    }\n",
       "\n",
       "    .dataframe thead th {\n",
       "        text-align: right;\n",
       "    }\n",
       "</style>\n",
       "<table border=\"1\" class=\"dataframe\">\n",
       "  <thead>\n",
       "    <tr style=\"text-align: right;\">\n",
       "      <th></th>\n",
       "      <th>group</th>\n",
       "      <th>outcome</th>\n",
       "    </tr>\n",
       "  </thead>\n",
       "  <tbody>\n",
       "    <tr>\n",
       "      <th>0</th>\n",
       "      <td>A</td>\n",
       "      <td>Engagement</td>\n",
       "    </tr>\n",
       "    <tr>\n",
       "      <th>1</th>\n",
       "      <td>B</td>\n",
       "      <td>No engagement</td>\n",
       "    </tr>\n",
       "    <tr>\n",
       "      <th>2</th>\n",
       "      <td>B</td>\n",
       "      <td>No engagement</td>\n",
       "    </tr>\n",
       "    <tr>\n",
       "      <th>3</th>\n",
       "      <td>B</td>\n",
       "      <td>No engagement</td>\n",
       "    </tr>\n",
       "    <tr>\n",
       "      <th>4</th>\n",
       "      <td>B</td>\n",
       "      <td>No engagement</td>\n",
       "    </tr>\n",
       "  </tbody>\n",
       "</table>\n",
       "</div>"
      ],
      "text/plain": [
       "  group        outcome\n",
       "0     A     Engagement\n",
       "1     B  No engagement\n",
       "2     B  No engagement\n",
       "3     B  No engagement\n",
       "4     B  No engagement"
      ]
     },
     "execution_count": 12,
     "metadata": {},
     "output_type": "execute_result"
    }
   ],
   "source": [
    "df.head()"
   ]
  },
  {
   "cell_type": "code",
   "execution_count": 17,
   "metadata": {},
   "outputs": [
    {
     "data": {
      "text/html": [
       "<div>\n",
       "<style scoped>\n",
       "    .dataframe tbody tr th:only-of-type {\n",
       "        vertical-align: middle;\n",
       "    }\n",
       "\n",
       "    .dataframe tbody tr th {\n",
       "        vertical-align: top;\n",
       "    }\n",
       "\n",
       "    .dataframe thead th {\n",
       "        text-align: right;\n",
       "    }\n",
       "</style>\n",
       "<table border=\"1\" class=\"dataframe\">\n",
       "  <thead>\n",
       "    <tr style=\"text-align: right;\">\n",
       "      <th>group</th>\n",
       "      <th>A</th>\n",
       "      <th>B</th>\n",
       "    </tr>\n",
       "    <tr>\n",
       "      <th>outcome</th>\n",
       "      <th></th>\n",
       "      <th></th>\n",
       "    </tr>\n",
       "  </thead>\n",
       "  <tbody>\n",
       "    <tr>\n",
       "      <th>Engagement</th>\n",
       "      <td>645.0</td>\n",
       "      <td>436.0</td>\n",
       "    </tr>\n",
       "    <tr>\n",
       "      <th>No engagement</th>\n",
       "      <td>355.0</td>\n",
       "      <td>564.0</td>\n",
       "    </tr>\n",
       "  </tbody>\n",
       "</table>\n",
       "</div>"
      ],
      "text/plain": [
       "group              A      B\n",
       "outcome                    \n",
       "Engagement     645.0  436.0\n",
       "No engagement  355.0  564.0"
      ]
     },
     "execution_count": 17,
     "metadata": {},
     "output_type": "execute_result"
    }
   ],
   "source": [
    "observed = df.reset_index().groupby(['group','outcome']).count().pivot_table(index='outcome', columns='group', values='index', fill_value=0)\n",
    "observed"
   ]
  },
  {
   "cell_type": "code",
   "execution_count": 29,
   "metadata": {
    "deletable": false,
    "editable": false,
    "id": "m684rWgczoNC",
    "nbgrader": {
     "cell_type": "code",
     "checksum": "84ca0f043b5c2892c16ea9341166eda2",
     "grade": true,
     "grade_id": "correct_cross_table",
     "locked": true,
     "points": 4,
     "schema_version": 3,
     "solution": false,
     "task": false
    }
   },
   "outputs": [],
   "source": [
    "\"\"\"Check that it returns the correct output\"\"\"\n",
    "assert float(cross_table['Engagement'].B) == 21.8"
   ]
  },
  {
   "cell_type": "code",
   "execution_count": 30,
   "metadata": {},
   "outputs": [
    {
     "data": {
      "text/plain": [
       "array([[32.25, 17.75],\n",
       "       [21.8 , 28.2 ]])"
      ]
     },
     "execution_count": 30,
     "metadata": {},
     "output_type": "execute_result"
    }
   ],
   "source": [
    "cross_table.values"
   ]
  },
  {
   "cell_type": "markdown",
   "metadata": {},
   "source": [
    "# Variable Classification\n",
    "\n",
    "Numeric \n",
    "- discrete (limited number of countable elements)\n",
    "- continious (unlimited number of elements)\n",
    "\n",
    "Categorical \n",
    "- Nominal (!=, =)\n",
    "- Ordinal (=, !=, >=, <=)\n",
    "\n",
    "Which visulaization to use for data type: https://www.data-to-viz.com/\n",
    "\n",
    "Altir Data Visualization: https://altair-viz.github.io/gallery/one_dot_per_zipcode.html"
   ]
  },
  {
   "cell_type": "markdown",
   "metadata": {},
   "source": [
    "# Chi-Square (χ²) Test in A/B Testing\n",
    "\n",
    "The Chi-Square (χ²) test is used in A/B testing to determine if there’s a statistically significant difference between two groups, especially when dealing with categorical data. It checks if the distribution of observed frequencies in each group differs from what would be expected under a null hypothesis.\n",
    "\n",
    "## When to Use the Chi-Square Test in A/B Testing\n",
    "If your A/B test involves categorical outcomes (e.g., \"clicked\" vs. \"not clicked\" on an ad), the Chi-Square test is useful. It’s often used to test whether proportions (like conversion rates) differ between two groups.\n",
    "\n",
    "## Steps to Conduct a Chi-Square Test in A/B Testing\n",
    "\n",
    "### 1. Set Up Hypotheses\n",
    "   - **Null Hypothesis (H₀)**: There is no difference in outcomes between the two groups (e.g., conversion rates in Group A and Group B are the same).\n",
    "   - **Alternative Hypothesis (H₁)**: There is a difference in outcomes between the two groups (e.g., conversion rates differ).\n",
    "\n",
    "### 2. Collect Data and Organize It into a Contingency Table\n",
    "   Organize your data in a 2x2 table for two groups and two outcomes:\n",
    "\n",
    "   | Outcome        | Group A | Group B |\n",
    "   |----------------|---------|---------|\n",
    "   | Converted      | a       | b       |\n",
    "   | Not Converted  | c       | d       |\n",
    "\n",
    "   Where:\n",
    "   - **a** = number of conversions in Group A\n",
    "   - **b** = number of conversions in Group B\n",
    "   - **c** = number of non-conversions in Group A\n",
    "   - **d** = number of non-conversions in Group B\n",
    "\n",
    "### 3. Calculate the Expected Values\n",
    "   For each cell in the table, calculate the expected value under the assumption that the null hypothesis is true:\n",
    "\n",
    "  $\n",
    "   \\text{Expected Value for a Cell} = \\frac{\\text{(Row Total) × (Column Total)}}{\\text{Grand Total}}\n",
    "  $\n",
    "\n",
    "### 4. Calculate the Chi-Square Statistic\n",
    "   Use the Chi-Square formula:\n",
    "\n",
    " $\n",
    "   \\chi^2 = \\sum \\frac{(O - E)^2}{E}\n",
    " $\n",
    "\n",
    "   Where:\n",
    "   - $ O $ = observed frequency in each cell\n",
    "   - $ E $ = expected frequency in each cell\n",
    "\n",
    "   Sum this value across all cells in the table.\n",
    "\n",
    "### 5. Determine the Degrees of Freedom (DoF)\n",
    "   For a 2x2 table, the degrees of freedom \\( \\text{DoF} \\) is 1, calculated as:\n",
    "\n",
    "   $\n",
    "   \\text{DoF} = (\\text{Rows} - 1) \\times (\\text{Columns} - 1)\n",
    "   $\n",
    "\n",
    "### 6. Find the p-value\n",
    "   Using the calculated χ² value and DoF, look up the p-value in a Chi-Square distribution table, or use statistical software to determine it.\n",
    "\n",
    "### 7. Interpret the Results\n",
    "   - If the p-value is below your significance level (e.g., 0.05), reject the null hypothesis, suggesting a significant difference between Group A and Group B.\n",
    "   - If the p-value is above the significance level, fail to reject the null hypothesis, indicating no significant difference."
   ]
  },
  {
   "cell_type": "code",
   "execution_count": 19,
   "metadata": {},
   "outputs": [
    {
     "data": {
      "text/html": [
       "<div>\n",
       "<style scoped>\n",
       "    .dataframe tbody tr th:only-of-type {\n",
       "        vertical-align: middle;\n",
       "    }\n",
       "\n",
       "    .dataframe tbody tr th {\n",
       "        vertical-align: top;\n",
       "    }\n",
       "\n",
       "    .dataframe thead th {\n",
       "        text-align: right;\n",
       "    }\n",
       "</style>\n",
       "<table border=\"1\" class=\"dataframe\">\n",
       "  <thead>\n",
       "    <tr style=\"text-align: right;\">\n",
       "      <th>group</th>\n",
       "      <th>A</th>\n",
       "      <th>B</th>\n",
       "    </tr>\n",
       "    <tr>\n",
       "      <th>outcome</th>\n",
       "      <th></th>\n",
       "      <th></th>\n",
       "    </tr>\n",
       "  </thead>\n",
       "  <tbody>\n",
       "    <tr>\n",
       "      <th>Engagement</th>\n",
       "      <td>645.0</td>\n",
       "      <td>436.0</td>\n",
       "    </tr>\n",
       "    <tr>\n",
       "      <th>No engagement</th>\n",
       "      <td>355.0</td>\n",
       "      <td>564.0</td>\n",
       "    </tr>\n",
       "  </tbody>\n",
       "</table>\n",
       "</div>"
      ],
      "text/plain": [
       "group              A      B\n",
       "outcome                    \n",
       "Engagement     645.0  436.0\n",
       "No engagement  355.0  564.0"
      ]
     },
     "execution_count": 19,
     "metadata": {},
     "output_type": "execute_result"
    }
   ],
   "source": [
    "observed"
   ]
  },
  {
   "cell_type": "code",
   "execution_count": 18,
   "metadata": {},
   "outputs": [
    {
     "name": "stdout",
     "output_type": "stream",
     "text": [
      "Chi-Square Statistic: 87.09945955413467\n",
      "p-value: 1.031987472111091e-20\n",
      "Degrees of Freedom: 1\n",
      "Expected Frequencies:\n",
      " [[540.5 540.5]\n",
      " [459.5 459.5]]\n",
      "Reject the null hypothesis: significant difference between Group A and Group B\n"
     ]
    }
   ],
   "source": [
    "import numpy as np\n",
    "from scipy.stats import chi2_contingency\n",
    "\n",
    "# Define observed frequencies in a 2x2 contingency table\n",
    "# Perform the Chi-Square test\n",
    "chi2, p, dof, expected = chi2_contingency(observed)\n",
    "\n",
    "# Results\n",
    "print(\"Chi-Square Statistic:\", chi2)\n",
    "print(\"p-value:\", p)\n",
    "print(\"Degrees of Freedom:\", dof)\n",
    "print(\"Expected Frequencies:\\n\", expected)\n",
    "\n",
    "# Interpret the result\n",
    "alpha = 0.05  # significance level\n",
    "if p < alpha:\n",
    "    print(\"Reject the null hypothesis: significant difference between Group A and Group B\")\n",
    "else:\n",
    "    print(\"Fail to reject the null hypothesis: no significant difference between Group A and Group B\")"
   ]
  },
  {
   "cell_type": "code",
   "execution_count": 22,
   "metadata": {},
   "outputs": [
    {
     "name": "stdout",
     "output_type": "stream",
     "text": [
      "p-value: 6.78123295713596e-21\n"
     ]
    }
   ],
   "source": [
    "from scipy.stats import chi2\n",
    "\n",
    "chi2_stat = 87.93\n",
    "dof = 1\n",
    "\n",
    "# Calculate the p-value\n",
    "p_value = chi2.sf(chi2_stat, dof)\n",
    "print(\"p-value:\", p_value)"
   ]
  },
  {
   "cell_type": "code",
   "execution_count": null,
   "metadata": {},
   "outputs": [],
   "source": [
    "# Type I error is equal to the significance level alpha\n",
    "type_I_error = alpha\n",
    "print(\"Type I Error (False Positive):\", typ_I_error)\n",
    "\n"
   ]
  }
 ],
 "metadata": {
  "colab": {
   "provenance": []
  },
  "kernelspec": {
   "display_name": ".venv",
   "language": "python",
   "name": "python3"
  },
  "language_info": {
   "codemirror_mode": {
    "name": "ipython",
    "version": 3
   },
   "file_extension": ".py",
   "mimetype": "text/x-python",
   "name": "python",
   "nbconvert_exporter": "python",
   "pygments_lexer": "ipython3",
   "version": "3.13.1"
  }
 },
 "nbformat": 4,
 "nbformat_minor": 0
}
