{
 "cells": [
  {
   "cell_type": "code",
   "execution_count": 55,
   "metadata": {},
   "outputs": [],
   "source": [
    "import pandas as pd\n",
    "import matplotlib.pyplot as plt\n",
    "import seaborn as sns\n",
    "import numpy as np"
   ]
  },
  {
   "cell_type": "code",
   "execution_count": 56,
   "metadata": {},
   "outputs": [
    {
     "data": {
      "text/html": [
       "<div>\n",
       "<style scoped>\n",
       "    .dataframe tbody tr th:only-of-type {\n",
       "        vertical-align: middle;\n",
       "    }\n",
       "\n",
       "    .dataframe tbody tr th {\n",
       "        vertical-align: top;\n",
       "    }\n",
       "\n",
       "    .dataframe thead th {\n",
       "        text-align: right;\n",
       "    }\n",
       "</style>\n",
       "<table border=\"1\" class=\"dataframe\">\n",
       "  <thead>\n",
       "    <tr style=\"text-align: right;\">\n",
       "      <th></th>\n",
       "      <th>ID</th>\n",
       "      <th>Name</th>\n",
       "      <th>FoS</th>\n",
       "      <th>Semesters</th>\n",
       "    </tr>\n",
       "  </thead>\n",
       "  <tbody>\n",
       "    <tr>\n",
       "      <th>0</th>\n",
       "      <td>100112</td>\n",
       "      <td>Jim Collins</td>\n",
       "      <td>Wifo</td>\n",
       "      <td>4</td>\n",
       "    </tr>\n",
       "    <tr>\n",
       "      <th>1</th>\n",
       "      <td>120095</td>\n",
       "      <td>Martin Schrader</td>\n",
       "      <td>Wifo</td>\n",
       "      <td>7</td>\n",
       "    </tr>\n",
       "    <tr>\n",
       "      <th>2</th>\n",
       "      <td>180331</td>\n",
       "      <td>Achim Zahn</td>\n",
       "      <td>OMM</td>\n",
       "      <td>1</td>\n",
       "    </tr>\n",
       "    <tr>\n",
       "      <th>3</th>\n",
       "      <td>100113</td>\n",
       "      <td>Joan Collins</td>\n",
       "      <td>Wifo</td>\n",
       "      <td>5</td>\n",
       "    </tr>\n",
       "    <tr>\n",
       "      <th>4</th>\n",
       "      <td>120096</td>\n",
       "      <td>Martin Scorsese</td>\n",
       "      <td>ID</td>\n",
       "      <td>6</td>\n",
       "    </tr>\n",
       "    <tr>\n",
       "      <th>5</th>\n",
       "      <td>180332</td>\n",
       "      <td>Achim Loewer</td>\n",
       "      <td>OMM</td>\n",
       "      <td>3</td>\n",
       "    </tr>\n",
       "    <tr>\n",
       "      <th>6</th>\n",
       "      <td>100114</td>\n",
       "      <td>Jim Beam</td>\n",
       "      <td>Wifo</td>\n",
       "      <td>4</td>\n",
       "    </tr>\n",
       "    <tr>\n",
       "      <th>7</th>\n",
       "      <td>120097</td>\n",
       "      <td>Tim Schrader</td>\n",
       "      <td>Wifo</td>\n",
       "      <td>7</td>\n",
       "    </tr>\n",
       "    <tr>\n",
       "      <th>8</th>\n",
       "      <td>180333</td>\n",
       "      <td>Zacharias Maier</td>\n",
       "      <td>OMM</td>\n",
       "      <td>5</td>\n",
       "    </tr>\n",
       "  </tbody>\n",
       "</table>\n",
       "</div>"
      ],
      "text/plain": [
       "       ID             Name   FoS  Semesters\n",
       "0  100112      Jim Collins  Wifo          4\n",
       "1  120095  Martin Schrader  Wifo          7\n",
       "2  180331       Achim Zahn   OMM          1\n",
       "3  100113     Joan Collins  Wifo          5\n",
       "4  120096  Martin Scorsese    ID          6\n",
       "5  180332     Achim Loewer   OMM          3\n",
       "6  100114         Jim Beam  Wifo          4\n",
       "7  120097     Tim Schrader  Wifo          7\n",
       "8  180333  Zacharias Maier   OMM          5"
      ]
     },
     "execution_count": 56,
     "metadata": {},
     "output_type": "execute_result"
    }
   ],
   "source": [
    "#create data frame\n",
    "list_2dim = [[100112,\"Jim Collins\",\"Wifo\",4],[120095,\"Martin Schrader\",\"Wifo\",7],[180331,\"Achim Zahn\",\"OMM\",1],\n",
    "            [100113,\"Joan Collins\",\"Wifo\",5],[120096,\"Martin Scorsese\",\"ID\",6],[180332,\"Achim Loewer\",\"OMM\",3],\n",
    "            [100114,\"Jim Beam\",\"Wifo\",4],[120097,\"Tim Schrader\",\"Wifo\",7],[180333,\"Zacharias Maier\",\"OMM\",5]]\n",
    "\n",
    "df = pd.DataFrame(list_2dim, columns=['ID','Name','FoS','Semesters'])\n",
    "df"
   ]
  },
  {
   "cell_type": "markdown",
   "metadata": {},
   "source": [
    "# One Hot Encoding"
   ]
  },
  {
   "cell_type": "code",
   "execution_count": 57,
   "metadata": {},
   "outputs": [
    {
     "data": {
      "text/html": [
       "<div>\n",
       "<style scoped>\n",
       "    .dataframe tbody tr th:only-of-type {\n",
       "        vertical-align: middle;\n",
       "    }\n",
       "\n",
       "    .dataframe tbody tr th {\n",
       "        vertical-align: top;\n",
       "    }\n",
       "\n",
       "    .dataframe thead th {\n",
       "        text-align: right;\n",
       "    }\n",
       "</style>\n",
       "<table border=\"1\" class=\"dataframe\">\n",
       "  <thead>\n",
       "    <tr style=\"text-align: right;\">\n",
       "      <th></th>\n",
       "      <th>ID</th>\n",
       "      <th>OMM</th>\n",
       "      <th>Wifo</th>\n",
       "    </tr>\n",
       "  </thead>\n",
       "  <tbody>\n",
       "    <tr>\n",
       "      <th>0</th>\n",
       "      <td>0</td>\n",
       "      <td>0</td>\n",
       "      <td>1</td>\n",
       "    </tr>\n",
       "    <tr>\n",
       "      <th>1</th>\n",
       "      <td>0</td>\n",
       "      <td>0</td>\n",
       "      <td>1</td>\n",
       "    </tr>\n",
       "    <tr>\n",
       "      <th>2</th>\n",
       "      <td>0</td>\n",
       "      <td>1</td>\n",
       "      <td>0</td>\n",
       "    </tr>\n",
       "    <tr>\n",
       "      <th>3</th>\n",
       "      <td>0</td>\n",
       "      <td>0</td>\n",
       "      <td>1</td>\n",
       "    </tr>\n",
       "    <tr>\n",
       "      <th>4</th>\n",
       "      <td>1</td>\n",
       "      <td>0</td>\n",
       "      <td>0</td>\n",
       "    </tr>\n",
       "    <tr>\n",
       "      <th>5</th>\n",
       "      <td>0</td>\n",
       "      <td>1</td>\n",
       "      <td>0</td>\n",
       "    </tr>\n",
       "    <tr>\n",
       "      <th>6</th>\n",
       "      <td>0</td>\n",
       "      <td>0</td>\n",
       "      <td>1</td>\n",
       "    </tr>\n",
       "    <tr>\n",
       "      <th>7</th>\n",
       "      <td>0</td>\n",
       "      <td>0</td>\n",
       "      <td>1</td>\n",
       "    </tr>\n",
       "    <tr>\n",
       "      <th>8</th>\n",
       "      <td>0</td>\n",
       "      <td>1</td>\n",
       "      <td>0</td>\n",
       "    </tr>\n",
       "  </tbody>\n",
       "</table>\n",
       "</div>"
      ],
      "text/plain": [
       "   ID  OMM  Wifo\n",
       "0   0    0     1\n",
       "1   0    0     1\n",
       "2   0    1     0\n",
       "3   0    0     1\n",
       "4   1    0     0\n",
       "5   0    1     0\n",
       "6   0    0     1\n",
       "7   0    0     1\n",
       "8   0    1     0"
      ]
     },
     "execution_count": 57,
     "metadata": {},
     "output_type": "execute_result"
    }
   ],
   "source": [
    "#one hot encoding of field of study\n",
    "######## add line of code here ##########################\n",
    "fos_oh_encoded = pd.get_dummies(df['FoS'], dtype=int)\n",
    "fos_oh_encoded"
   ]
  },
  {
   "cell_type": "code",
   "execution_count": 58,
   "metadata": {},
   "outputs": [
    {
     "data": {
      "text/html": [
       "<div>\n",
       "<style scoped>\n",
       "    .dataframe tbody tr th:only-of-type {\n",
       "        vertical-align: middle;\n",
       "    }\n",
       "\n",
       "    .dataframe tbody tr th {\n",
       "        vertical-align: top;\n",
       "    }\n",
       "\n",
       "    .dataframe thead th {\n",
       "        text-align: right;\n",
       "    }\n",
       "</style>\n",
       "<table border=\"1\" class=\"dataframe\">\n",
       "  <thead>\n",
       "    <tr style=\"text-align: right;\">\n",
       "      <th></th>\n",
       "      <th>ID</th>\n",
       "      <th>Name</th>\n",
       "      <th>FoS</th>\n",
       "      <th>Semesters</th>\n",
       "      <th>ID</th>\n",
       "      <th>OMM</th>\n",
       "      <th>Wifo</th>\n",
       "    </tr>\n",
       "  </thead>\n",
       "  <tbody>\n",
       "    <tr>\n",
       "      <th>0</th>\n",
       "      <td>100112</td>\n",
       "      <td>Jim Collins</td>\n",
       "      <td>Wifo</td>\n",
       "      <td>4</td>\n",
       "      <td>0</td>\n",
       "      <td>0</td>\n",
       "      <td>1</td>\n",
       "    </tr>\n",
       "    <tr>\n",
       "      <th>1</th>\n",
       "      <td>120095</td>\n",
       "      <td>Martin Schrader</td>\n",
       "      <td>Wifo</td>\n",
       "      <td>7</td>\n",
       "      <td>0</td>\n",
       "      <td>0</td>\n",
       "      <td>1</td>\n",
       "    </tr>\n",
       "    <tr>\n",
       "      <th>2</th>\n",
       "      <td>180331</td>\n",
       "      <td>Achim Zahn</td>\n",
       "      <td>OMM</td>\n",
       "      <td>1</td>\n",
       "      <td>0</td>\n",
       "      <td>1</td>\n",
       "      <td>0</td>\n",
       "    </tr>\n",
       "    <tr>\n",
       "      <th>3</th>\n",
       "      <td>100113</td>\n",
       "      <td>Joan Collins</td>\n",
       "      <td>Wifo</td>\n",
       "      <td>5</td>\n",
       "      <td>0</td>\n",
       "      <td>0</td>\n",
       "      <td>1</td>\n",
       "    </tr>\n",
       "    <tr>\n",
       "      <th>4</th>\n",
       "      <td>120096</td>\n",
       "      <td>Martin Scorsese</td>\n",
       "      <td>ID</td>\n",
       "      <td>6</td>\n",
       "      <td>1</td>\n",
       "      <td>0</td>\n",
       "      <td>0</td>\n",
       "    </tr>\n",
       "    <tr>\n",
       "      <th>5</th>\n",
       "      <td>180332</td>\n",
       "      <td>Achim Loewer</td>\n",
       "      <td>OMM</td>\n",
       "      <td>3</td>\n",
       "      <td>0</td>\n",
       "      <td>1</td>\n",
       "      <td>0</td>\n",
       "    </tr>\n",
       "    <tr>\n",
       "      <th>6</th>\n",
       "      <td>100114</td>\n",
       "      <td>Jim Beam</td>\n",
       "      <td>Wifo</td>\n",
       "      <td>4</td>\n",
       "      <td>0</td>\n",
       "      <td>0</td>\n",
       "      <td>1</td>\n",
       "    </tr>\n",
       "    <tr>\n",
       "      <th>7</th>\n",
       "      <td>120097</td>\n",
       "      <td>Tim Schrader</td>\n",
       "      <td>Wifo</td>\n",
       "      <td>7</td>\n",
       "      <td>0</td>\n",
       "      <td>0</td>\n",
       "      <td>1</td>\n",
       "    </tr>\n",
       "    <tr>\n",
       "      <th>8</th>\n",
       "      <td>180333</td>\n",
       "      <td>Zacharias Maier</td>\n",
       "      <td>OMM</td>\n",
       "      <td>5</td>\n",
       "      <td>0</td>\n",
       "      <td>1</td>\n",
       "      <td>0</td>\n",
       "    </tr>\n",
       "  </tbody>\n",
       "</table>\n",
       "</div>"
      ],
      "text/plain": [
       "       ID             Name   FoS  Semesters  ID  OMM  Wifo\n",
       "0  100112      Jim Collins  Wifo          4   0    0     1\n",
       "1  120095  Martin Schrader  Wifo          7   0    0     1\n",
       "2  180331       Achim Zahn   OMM          1   0    1     0\n",
       "3  100113     Joan Collins  Wifo          5   0    0     1\n",
       "4  120096  Martin Scorsese    ID          6   1    0     0\n",
       "5  180332     Achim Loewer   OMM          3   0    1     0\n",
       "6  100114         Jim Beam  Wifo          4   0    0     1\n",
       "7  120097     Tim Schrader  Wifo          7   0    0     1\n",
       "8  180333  Zacharias Maier   OMM          5   0    1     0"
      ]
     },
     "execution_count": 58,
     "metadata": {},
     "output_type": "execute_result"
    }
   ],
   "source": [
    "#join new features to original data frame and store result in df_oh\n",
    "df_oh = pd.concat([df, fos_oh_encoded], axis=1)\n",
    "df_oh"
   ]
  },
  {
   "cell_type": "code",
   "execution_count": 59,
   "metadata": {},
   "outputs": [
    {
     "data": {
      "text/html": [
       "<div>\n",
       "<style scoped>\n",
       "    .dataframe tbody tr th:only-of-type {\n",
       "        vertical-align: middle;\n",
       "    }\n",
       "\n",
       "    .dataframe tbody tr th {\n",
       "        vertical-align: top;\n",
       "    }\n",
       "\n",
       "    .dataframe thead th {\n",
       "        text-align: right;\n",
       "    }\n",
       "</style>\n",
       "<table border=\"1\" class=\"dataframe\">\n",
       "  <thead>\n",
       "    <tr style=\"text-align: right;\">\n",
       "      <th></th>\n",
       "      <th>FoS</th>\n",
       "      <th>Number of Students</th>\n",
       "    </tr>\n",
       "  </thead>\n",
       "  <tbody>\n",
       "    <tr>\n",
       "      <th>0</th>\n",
       "      <td>ID</td>\n",
       "      <td>1</td>\n",
       "    </tr>\n",
       "    <tr>\n",
       "      <th>1</th>\n",
       "      <td>OMM</td>\n",
       "      <td>3</td>\n",
       "    </tr>\n",
       "    <tr>\n",
       "      <th>2</th>\n",
       "      <td>Wifo</td>\n",
       "      <td>5</td>\n",
       "    </tr>\n",
       "  </tbody>\n",
       "</table>\n",
       "</div>"
      ],
      "text/plain": [
       "    FoS  Number of Students\n",
       "0    ID                   1\n",
       "1   OMM                   3\n",
       "2  Wifo                   5"
      ]
     },
     "execution_count": 59,
     "metadata": {},
     "output_type": "execute_result"
    }
   ],
   "source": [
    "#Summarize the number of students per Field of Study in df_sum\n",
    "df_sum = df_oh.groupby('FoS').size().reset_index(name='Number of Students')\n",
    "df_sum"
   ]
  },
  {
   "cell_type": "code",
   "execution_count": 60,
   "metadata": {},
   "outputs": [
    {
     "data": {
      "text/plain": [
       "<Axes: xlabel='FoS', ylabel='Number of Students'>"
      ]
     },
     "execution_count": 60,
     "metadata": {},
     "output_type": "execute_result"
    },
    {
     "data": {
      "image/png": "[encoded data removed]",
      "text/plain": [
       "<Figure size 640x480 with 1 Axes>"
      ]
     },
     "metadata": {},
     "output_type": "display_data"
    }
   ],
   "source": [
    "#display the number of students per field of study in a bar chart\n",
    "sns.barplot(x='FoS', y='Number of Students', data=df_sum)"
   ]
  },
  {
   "cell_type": "markdown",
   "metadata": {},
   "source": [
    "# Target Encoding"
   ]
  },
  {
   "cell_type": "code",
   "execution_count": 61,
   "metadata": {},
   "outputs": [
    {
     "data": {
      "text/html": [
       "<div>\n",
       "<style scoped>\n",
       "    .dataframe tbody tr th:only-of-type {\n",
       "        vertical-align: middle;\n",
       "    }\n",
       "\n",
       "    .dataframe tbody tr th {\n",
       "        vertical-align: top;\n",
       "    }\n",
       "\n",
       "    .dataframe thead th {\n",
       "        text-align: right;\n",
       "    }\n",
       "</style>\n",
       "<table border=\"1\" class=\"dataframe\">\n",
       "  <thead>\n",
       "    <tr style=\"text-align: right;\">\n",
       "      <th></th>\n",
       "      <th>ID</th>\n",
       "      <th>Name</th>\n",
       "      <th>FoS</th>\n",
       "      <th>Semesters</th>\n",
       "    </tr>\n",
       "  </thead>\n",
       "  <tbody>\n",
       "    <tr>\n",
       "      <th>0</th>\n",
       "      <td>100112</td>\n",
       "      <td>Jim Collins</td>\n",
       "      <td>Wifo</td>\n",
       "      <td>4</td>\n",
       "    </tr>\n",
       "    <tr>\n",
       "      <th>1</th>\n",
       "      <td>120095</td>\n",
       "      <td>Martin Schrader</td>\n",
       "      <td>Wifo</td>\n",
       "      <td>7</td>\n",
       "    </tr>\n",
       "    <tr>\n",
       "      <th>2</th>\n",
       "      <td>180331</td>\n",
       "      <td>Achim Zahn</td>\n",
       "      <td>OMM</td>\n",
       "      <td>1</td>\n",
       "    </tr>\n",
       "    <tr>\n",
       "      <th>3</th>\n",
       "      <td>100113</td>\n",
       "      <td>Joan Collins</td>\n",
       "      <td>Wifo</td>\n",
       "      <td>5</td>\n",
       "    </tr>\n",
       "    <tr>\n",
       "      <th>4</th>\n",
       "      <td>120096</td>\n",
       "      <td>Martin Scorsese</td>\n",
       "      <td>ID</td>\n",
       "      <td>6</td>\n",
       "    </tr>\n",
       "    <tr>\n",
       "      <th>5</th>\n",
       "      <td>180332</td>\n",
       "      <td>Achim Loewer</td>\n",
       "      <td>OMM</td>\n",
       "      <td>3</td>\n",
       "    </tr>\n",
       "    <tr>\n",
       "      <th>6</th>\n",
       "      <td>100114</td>\n",
       "      <td>Jim Beam</td>\n",
       "      <td>Wifo</td>\n",
       "      <td>4</td>\n",
       "    </tr>\n",
       "    <tr>\n",
       "      <th>7</th>\n",
       "      <td>120097</td>\n",
       "      <td>Tim Schrader</td>\n",
       "      <td>Wifo</td>\n",
       "      <td>7</td>\n",
       "    </tr>\n",
       "    <tr>\n",
       "      <th>8</th>\n",
       "      <td>180333</td>\n",
       "      <td>Zacharias Maier</td>\n",
       "      <td>OMM</td>\n",
       "      <td>5</td>\n",
       "    </tr>\n",
       "  </tbody>\n",
       "</table>\n",
       "</div>"
      ],
      "text/plain": [
       "       ID             Name   FoS  Semesters\n",
       "0  100112      Jim Collins  Wifo          4\n",
       "1  120095  Martin Schrader  Wifo          7\n",
       "2  180331       Achim Zahn   OMM          1\n",
       "3  100113     Joan Collins  Wifo          5\n",
       "4  120096  Martin Scorsese    ID          6\n",
       "5  180332     Achim Loewer   OMM          3\n",
       "6  100114         Jim Beam  Wifo          4\n",
       "7  120097     Tim Schrader  Wifo          7\n",
       "8  180333  Zacharias Maier   OMM          5"
      ]
     },
     "execution_count": 61,
     "metadata": {},
     "output_type": "execute_result"
    }
   ],
   "source": [
    "#display the values of your original data frame again (the one without one hot encoding)\n",
    "df"
   ]
  },
  {
   "cell_type": "code",
   "execution_count": 62,
   "metadata": {},
   "outputs": [
    {
     "data": {
      "text/html": [
       "<div>\n",
       "<style scoped>\n",
       "    .dataframe tbody tr th:only-of-type {\n",
       "        vertical-align: middle;\n",
       "    }\n",
       "\n",
       "    .dataframe tbody tr th {\n",
       "        vertical-align: top;\n",
       "    }\n",
       "\n",
       "    .dataframe thead th {\n",
       "        text-align: right;\n",
       "    }\n",
       "</style>\n",
       "<table border=\"1\" class=\"dataframe\">\n",
       "  <thead>\n",
       "    <tr style=\"text-align: right;\">\n",
       "      <th></th>\n",
       "      <th>FoS</th>\n",
       "      <th>Mean Semesters</th>\n",
       "    </tr>\n",
       "  </thead>\n",
       "  <tbody>\n",
       "    <tr>\n",
       "      <th>0</th>\n",
       "      <td>ID</td>\n",
       "      <td>6.0</td>\n",
       "    </tr>\n",
       "    <tr>\n",
       "      <th>1</th>\n",
       "      <td>OMM</td>\n",
       "      <td>3.0</td>\n",
       "    </tr>\n",
       "    <tr>\n",
       "      <th>2</th>\n",
       "      <td>Wifo</td>\n",
       "      <td>5.4</td>\n",
       "    </tr>\n",
       "  </tbody>\n",
       "</table>\n",
       "</div>"
      ],
      "text/plain": [
       "    FoS  Mean Semesters\n",
       "0    ID             6.0\n",
       "1   OMM             3.0\n",
       "2  Wifo             5.4"
      ]
     },
     "execution_count": 62,
     "metadata": {},
     "output_type": "execute_result"
    }
   ],
   "source": [
    "#Use \"Semesters\" as the target and apply target encoding to the feature \"field of study\"\n",
    "#First step: calculate the mean number of semesters per \"field of study\"\n",
    "mean_semesters_encode = df.groupby('FoS')['Semesters'].mean().reset_index(name='Mean Semesters')\n",
    "mean_semesters_encode"
   ]
  },
  {
   "cell_type": "code",
   "execution_count": 63,
   "metadata": {},
   "outputs": [
    {
     "data": {
      "text/html": [
       "<div>\n",
       "<style scoped>\n",
       "    .dataframe tbody tr th:only-of-type {\n",
       "        vertical-align: middle;\n",
       "    }\n",
       "\n",
       "    .dataframe tbody tr th {\n",
       "        vertical-align: top;\n",
       "    }\n",
       "\n",
       "    .dataframe thead th {\n",
       "        text-align: right;\n",
       "    }\n",
       "</style>\n",
       "<table border=\"1\" class=\"dataframe\">\n",
       "  <thead>\n",
       "    <tr style=\"text-align: right;\">\n",
       "      <th></th>\n",
       "      <th>ID</th>\n",
       "      <th>Name</th>\n",
       "      <th>FoS</th>\n",
       "      <th>Semesters</th>\n",
       "      <th>ID</th>\n",
       "      <th>OMM</th>\n",
       "      <th>Wifo</th>\n",
       "      <th>Mean Semesters</th>\n",
       "    </tr>\n",
       "  </thead>\n",
       "  <tbody>\n",
       "    <tr>\n",
       "      <th>0</th>\n",
       "      <td>100112</td>\n",
       "      <td>Jim Collins</td>\n",
       "      <td>Wifo</td>\n",
       "      <td>4</td>\n",
       "      <td>0</td>\n",
       "      <td>0</td>\n",
       "      <td>1</td>\n",
       "      <td>5.4</td>\n",
       "    </tr>\n",
       "    <tr>\n",
       "      <th>1</th>\n",
       "      <td>120095</td>\n",
       "      <td>Martin Schrader</td>\n",
       "      <td>Wifo</td>\n",
       "      <td>7</td>\n",
       "      <td>0</td>\n",
       "      <td>0</td>\n",
       "      <td>1</td>\n",
       "      <td>5.4</td>\n",
       "    </tr>\n",
       "    <tr>\n",
       "      <th>2</th>\n",
       "      <td>180331</td>\n",
       "      <td>Achim Zahn</td>\n",
       "      <td>OMM</td>\n",
       "      <td>1</td>\n",
       "      <td>0</td>\n",
       "      <td>1</td>\n",
       "      <td>0</td>\n",
       "      <td>3.0</td>\n",
       "    </tr>\n",
       "    <tr>\n",
       "      <th>3</th>\n",
       "      <td>100113</td>\n",
       "      <td>Joan Collins</td>\n",
       "      <td>Wifo</td>\n",
       "      <td>5</td>\n",
       "      <td>0</td>\n",
       "      <td>0</td>\n",
       "      <td>1</td>\n",
       "      <td>5.4</td>\n",
       "    </tr>\n",
       "    <tr>\n",
       "      <th>4</th>\n",
       "      <td>120096</td>\n",
       "      <td>Martin Scorsese</td>\n",
       "      <td>ID</td>\n",
       "      <td>6</td>\n",
       "      <td>1</td>\n",
       "      <td>0</td>\n",
       "      <td>0</td>\n",
       "      <td>6.0</td>\n",
       "    </tr>\n",
       "    <tr>\n",
       "      <th>5</th>\n",
       "      <td>180332</td>\n",
       "      <td>Achim Loewer</td>\n",
       "      <td>OMM</td>\n",
       "      <td>3</td>\n",
       "      <td>0</td>\n",
       "      <td>1</td>\n",
       "      <td>0</td>\n",
       "      <td>3.0</td>\n",
       "    </tr>\n",
       "    <tr>\n",
       "      <th>6</th>\n",
       "      <td>100114</td>\n",
       "      <td>Jim Beam</td>\n",
       "      <td>Wifo</td>\n",
       "      <td>4</td>\n",
       "      <td>0</td>\n",
       "      <td>0</td>\n",
       "      <td>1</td>\n",
       "      <td>5.4</td>\n",
       "    </tr>\n",
       "    <tr>\n",
       "      <th>7</th>\n",
       "      <td>120097</td>\n",
       "      <td>Tim Schrader</td>\n",
       "      <td>Wifo</td>\n",
       "      <td>7</td>\n",
       "      <td>0</td>\n",
       "      <td>0</td>\n",
       "      <td>1</td>\n",
       "      <td>5.4</td>\n",
       "    </tr>\n",
       "    <tr>\n",
       "      <th>8</th>\n",
       "      <td>180333</td>\n",
       "      <td>Zacharias Maier</td>\n",
       "      <td>OMM</td>\n",
       "      <td>5</td>\n",
       "      <td>0</td>\n",
       "      <td>1</td>\n",
       "      <td>0</td>\n",
       "      <td>3.0</td>\n",
       "    </tr>\n",
       "  </tbody>\n",
       "</table>\n",
       "</div>"
      ],
      "text/plain": [
       "       ID             Name   FoS  Semesters  ID  OMM  Wifo  Mean Semesters\n",
       "0  100112      Jim Collins  Wifo          4   0    0     1             5.4\n",
       "1  120095  Martin Schrader  Wifo          7   0    0     1             5.4\n",
       "2  180331       Achim Zahn   OMM          1   0    1     0             3.0\n",
       "3  100113     Joan Collins  Wifo          5   0    0     1             5.4\n",
       "4  120096  Martin Scorsese    ID          6   1    0     0             6.0\n",
       "5  180332     Achim Loewer   OMM          3   0    1     0             3.0\n",
       "6  100114         Jim Beam  Wifo          4   0    0     1             5.4\n",
       "7  120097     Tim Schrader  Wifo          7   0    0     1             5.4\n",
       "8  180333  Zacharias Maier   OMM          5   0    1     0             3.0"
      ]
     },
     "execution_count": 63,
     "metadata": {},
     "output_type": "execute_result"
    }
   ],
   "source": [
    "#Create a new column for your data frame called 'Target Encoded FoS' and map the mean number of semesters, which you just calculated to this column\n",
    "df_oh = pd.merge(df_oh, mean_semesters_encode, on='FoS')\n",
    "df_oh"
   ]
  },
  {
   "cell_type": "code",
   "execution_count": 64,
   "metadata": {},
   "outputs": [],
   "source": [
    "#Drop new column again \n",
    "df_oh.drop('Mean Semesters', axis=1, inplace=True)"
   ]
  },
  {
   "cell_type": "markdown",
   "metadata": {},
   "source": [
    "# Ordinal Encoding"
   ]
  },
  {
   "cell_type": "code",
   "execution_count": 65,
   "metadata": {},
   "outputs": [],
   "source": [
    "#Create a function that receives a string argument and returns the rank of the first character\n",
    "#Example: Achim => 'A' => 1, Bernd => 'B' => 2 etc.\n",
    "#Hint: the \"ord\" command could be helpful\n",
    "def return_rank(name):\n",
    "    return ord(name[0].upper()) - 64"
   ]
  },
  {
   "cell_type": "code",
   "execution_count": 66,
   "metadata": {},
   "outputs": [
    {
     "data": {
      "text/plain": [
       "0    10\n",
       "1    13\n",
       "2     1\n",
       "3    10\n",
       "4    13\n",
       "5     1\n",
       "6    10\n",
       "7    20\n",
       "8    26\n",
       "Name: Name, dtype: int64"
      ]
     },
     "execution_count": 66,
     "metadata": {},
     "output_type": "execute_result"
    }
   ],
   "source": [
    "#loop the names in your data frame, call the rank function you just created and store the results in a list\n",
    "rank_list = df_oh['Name'].apply(return_rank)\n",
    "rank_list"
   ]
  },
  {
   "cell_type": "code",
   "execution_count": 67,
   "metadata": {},
   "outputs": [],
   "source": [
    "#create a new column of your dataframe, which stores the values of the list you just created\n",
    "######## add line(s) of code here ##########################\n",
    "df_oh['Rank'] = rank_list"
   ]
  },
  {
   "cell_type": "markdown",
   "metadata": {},
   "source": [
    "# Binning"
   ]
  },
  {
   "cell_type": "code",
   "execution_count": 68,
   "metadata": {},
   "outputs": [
    {
     "data": {
      "text/html": [
       "<div>\n",
       "<style scoped>\n",
       "    .dataframe tbody tr th:only-of-type {\n",
       "        vertical-align: middle;\n",
       "    }\n",
       "\n",
       "    .dataframe tbody tr th {\n",
       "        vertical-align: top;\n",
       "    }\n",
       "\n",
       "    .dataframe thead th {\n",
       "        text-align: right;\n",
       "    }\n",
       "</style>\n",
       "<table border=\"1\" class=\"dataframe\">\n",
       "  <thead>\n",
       "    <tr style=\"text-align: right;\">\n",
       "      <th></th>\n",
       "      <th>ID</th>\n",
       "      <th>Name</th>\n",
       "      <th>FoS</th>\n",
       "      <th>Semesters</th>\n",
       "      <th>ID</th>\n",
       "      <th>OMM</th>\n",
       "      <th>Wifo</th>\n",
       "      <th>Rank</th>\n",
       "    </tr>\n",
       "  </thead>\n",
       "  <tbody>\n",
       "    <tr>\n",
       "      <th>0</th>\n",
       "      <td>100112</td>\n",
       "      <td>Jim Collins</td>\n",
       "      <td>Wifo</td>\n",
       "      <td>4</td>\n",
       "      <td>0</td>\n",
       "      <td>0</td>\n",
       "      <td>1</td>\n",
       "      <td>(0.975, 13.5]</td>\n",
       "    </tr>\n",
       "    <tr>\n",
       "      <th>1</th>\n",
       "      <td>120095</td>\n",
       "      <td>Martin Schrader</td>\n",
       "      <td>Wifo</td>\n",
       "      <td>7</td>\n",
       "      <td>0</td>\n",
       "      <td>0</td>\n",
       "      <td>1</td>\n",
       "      <td>(0.975, 13.5]</td>\n",
       "    </tr>\n",
       "    <tr>\n",
       "      <th>2</th>\n",
       "      <td>180331</td>\n",
       "      <td>Achim Zahn</td>\n",
       "      <td>OMM</td>\n",
       "      <td>1</td>\n",
       "      <td>0</td>\n",
       "      <td>1</td>\n",
       "      <td>0</td>\n",
       "      <td>(0.975, 13.5]</td>\n",
       "    </tr>\n",
       "    <tr>\n",
       "      <th>3</th>\n",
       "      <td>100113</td>\n",
       "      <td>Joan Collins</td>\n",
       "      <td>Wifo</td>\n",
       "      <td>5</td>\n",
       "      <td>0</td>\n",
       "      <td>0</td>\n",
       "      <td>1</td>\n",
       "      <td>(0.975, 13.5]</td>\n",
       "    </tr>\n",
       "    <tr>\n",
       "      <th>4</th>\n",
       "      <td>120096</td>\n",
       "      <td>Martin Scorsese</td>\n",
       "      <td>ID</td>\n",
       "      <td>6</td>\n",
       "      <td>1</td>\n",
       "      <td>0</td>\n",
       "      <td>0</td>\n",
       "      <td>(0.975, 13.5]</td>\n",
       "    </tr>\n",
       "    <tr>\n",
       "      <th>5</th>\n",
       "      <td>180332</td>\n",
       "      <td>Achim Loewer</td>\n",
       "      <td>OMM</td>\n",
       "      <td>3</td>\n",
       "      <td>0</td>\n",
       "      <td>1</td>\n",
       "      <td>0</td>\n",
       "      <td>(0.975, 13.5]</td>\n",
       "    </tr>\n",
       "    <tr>\n",
       "      <th>6</th>\n",
       "      <td>100114</td>\n",
       "      <td>Jim Beam</td>\n",
       "      <td>Wifo</td>\n",
       "      <td>4</td>\n",
       "      <td>0</td>\n",
       "      <td>0</td>\n",
       "      <td>1</td>\n",
       "      <td>(0.975, 13.5]</td>\n",
       "    </tr>\n",
       "    <tr>\n",
       "      <th>7</th>\n",
       "      <td>120097</td>\n",
       "      <td>Tim Schrader</td>\n",
       "      <td>Wifo</td>\n",
       "      <td>7</td>\n",
       "      <td>0</td>\n",
       "      <td>0</td>\n",
       "      <td>1</td>\n",
       "      <td>(13.5, 26.0]</td>\n",
       "    </tr>\n",
       "    <tr>\n",
       "      <th>8</th>\n",
       "      <td>180333</td>\n",
       "      <td>Zacharias Maier</td>\n",
       "      <td>OMM</td>\n",
       "      <td>5</td>\n",
       "      <td>0</td>\n",
       "      <td>1</td>\n",
       "      <td>0</td>\n",
       "      <td>(13.5, 26.0]</td>\n",
       "    </tr>\n",
       "  </tbody>\n",
       "</table>\n",
       "</div>"
      ],
      "text/plain": [
       "       ID             Name   FoS  Semesters  ID  OMM  Wifo           Rank\n",
       "0  100112      Jim Collins  Wifo          4   0    0     1  (0.975, 13.5]\n",
       "1  120095  Martin Schrader  Wifo          7   0    0     1  (0.975, 13.5]\n",
       "2  180331       Achim Zahn   OMM          1   0    1     0  (0.975, 13.5]\n",
       "3  100113     Joan Collins  Wifo          5   0    0     1  (0.975, 13.5]\n",
       "4  120096  Martin Scorsese    ID          6   1    0     0  (0.975, 13.5]\n",
       "5  180332     Achim Loewer   OMM          3   0    1     0  (0.975, 13.5]\n",
       "6  100114         Jim Beam  Wifo          4   0    0     1  (0.975, 13.5]\n",
       "7  120097     Tim Schrader  Wifo          7   0    0     1   (13.5, 26.0]\n",
       "8  180333  Zacharias Maier   OMM          5   0    1     0   (13.5, 26.0]"
      ]
     },
     "execution_count": 68,
     "metadata": {},
     "output_type": "execute_result"
    }
   ],
   "source": [
    "#Apply binning to the name ranks which you just created\n",
    "#There should be two bins\n",
    "######## add line(s) of code here ##########################\n",
    "df_oh['Rank'] = pd.cut(df_oh['Rank'], bins=2)\n",
    "df_oh"
   ]
  },
  {
   "cell_type": "code",
   "execution_count": 69,
   "metadata": {},
   "outputs": [
    {
     "data": {
      "text/plain": [
       "[(0.975, 13.5], (13.5, 26.0]]\n",
       "Categories (2, interval[float64, right]): [(0.975, 13.5] < (13.5, 26.0]]"
      ]
     },
     "execution_count": 69,
     "metadata": {},
     "output_type": "execute_result"
    }
   ],
   "source": [
    "#show different bins\n",
    "df_oh['Rank'].unique()"
   ]
  },
  {
   "cell_type": "markdown",
   "metadata": {},
   "source": [
    "# Visual Normality Checks"
   ]
  },
  {
   "cell_type": "code",
   "execution_count": 70,
   "metadata": {},
   "outputs": [
    {
     "data": {
      "text/plain": [
       "<Axes: ylabel='Frequency'>"
      ]
     },
     "execution_count": 70,
     "metadata": {},
     "output_type": "execute_result"
    },
    {
     "data": {
      "image/png": "[encoded data removed]",
      "text/plain": [
       "<Figure size 640x480 with 1 Axes>"
      ]
     },
     "metadata": {},
     "output_type": "display_data"
    }
   ],
   "source": [
    "#create a histogram plot for the column \"Semesters\"\n",
    "df['Semesters'].plot(kind='hist')"
   ]
  },
  {
   "cell_type": "code",
   "execution_count": 71,
   "metadata": {},
   "outputs": [
    {
     "data": {
      "image/png": "[encoded data removed]",
      "text/plain": [
       "<Figure size 640x480 with 1 Axes>"
      ]
     },
     "metadata": {},
     "output_type": "display_data"
    }
   ],
   "source": [
    "#create a qq plot for the column \"Semesters\"\n",
    "from statsmodels.graphics.gofplots import qqplot\n",
    "from matplotlib import pyplot\n",
    "\n",
    "######## add line(s) of code here ##########################\n",
    "x = df['Semesters'].values\n",
    "qqplot(x, line='s')\n",
    "pyplot.show()"
   ]
  },
  {
   "cell_type": "markdown",
   "metadata": {},
   "source": [
    "# Statistical Normality Checks"
   ]
  },
  {
   "attachments": {
    "skewness_intervalls.png": {
     "image/png": "[encoded data removed]"
    }
   },
   "cell_type": "markdown",
   "metadata": {},
   "source": [
    "![skewness_intervalls.png](attachment:skewness_intervalls.png)"
   ]
  },
  {
   "cell_type": "code",
   "execution_count": 78,
   "metadata": {},
   "outputs": [
    {
     "data": {
      "text/plain": [
       "np.float64(-0.5901688908506545)"
      ]
     },
     "execution_count": 78,
     "metadata": {},
     "output_type": "execute_result"
    }
   ],
   "source": [
    "#Calculate skew for the column \"Semesters\"\n",
    "skew = df_oh['Semesters'].skew()\n",
    "skew"
   ]
  },
  {
   "cell_type": "code",
   "execution_count": 73,
   "metadata": {},
   "outputs": [],
   "source": [
    "# Shapiro-Wilk Test\n",
    "from scipy.stats import shapiro\n",
    "\n",
    "def shapiro_wilk_test(data,alpha):\n",
    "    stat, p = shapiro(data)\n",
    "    print('Statistics=%.3f, p=%.5f' % (stat, p))\n",
    "    # interpret\n",
    "    if p > alpha:\n",
    "        print('Sample looks Gaussian (fail to reject H0)')\n",
    "    else:\n",
    "        print('Sample does not look Gaussian (reject H0)')      "
   ]
  },
  {
   "cell_type": "code",
   "execution_count": 79,
   "metadata": {},
   "outputs": [
    {
     "name": "stdout",
     "output_type": "stream",
     "text": [
      "Statistics=0.944, p=0.62039\n",
      "Sample looks Gaussian (fail to reject H0)\n"
     ]
    }
   ],
   "source": [
    "#Perform Shapiro-Wilk Test for the column \"Semesters\"\n",
    "alpha = 0.05\n",
    "shapiro_wilk_test(df_oh['Semesters'],alpha)"
   ]
  },
  {
   "cell_type": "markdown",
   "metadata": {},
   "source": [
    "# Transform to normal distribution - Quantile Transformer"
   ]
  },
  {
   "cell_type": "code",
   "execution_count": 75,
   "metadata": {},
   "outputs": [],
   "source": [
    "from sklearn.preprocessing import QuantileTransformer"
   ]
  },
  {
   "cell_type": "code",
   "execution_count": 80,
   "metadata": {},
   "outputs": [
    {
     "name": "stderr",
     "output_type": "stream",
     "text": [
      "/Users/JOHTORR/Repos/classroom_notes/.venv/lib/python3.13/site-packages/sklearn/preprocessing/_data.py:2829: UserWarning: n_quantiles (25) is greater than the total number of samples (9). n_quantiles is set to n_samples.\n",
      "  warnings.warn(\n"
     ]
    },
    {
     "data": {
      "text/plain": [
       "<Axes: >"
      ]
     },
     "execution_count": 80,
     "metadata": {},
     "output_type": "execute_result"
    },
    {
     "data": {
      "image/png": "[encoded data removed]",
      "text/plain": [
       "<Figure size 500x500 with 1 Axes>"
      ]
     },
     "metadata": {},
     "output_type": "display_data"
    }
   ],
   "source": [
    "#perform quantile transformation for the column \"Semesters\" and plot the result in a histogram\n",
    "#quantile transformer should use 5 quantiles\n",
    "from sklearn.preprocessing import QuantileTransformer\n",
    "\n",
    "qt = QuantileTransformer(n_quantiles=25, output_distribution='normal',random_state=0)\n",
    "trans_x=qt.fit_transform(np.array(df_oh['Semesters'].array.reshape(-1, 1)))\n",
    "\n",
    "df_oh['Semesters']=trans_x\n",
    "\n",
    "df_oh['Semesters'].hist(bins=20,figsize=(5, 5))\n",
    "\n",
    "#histogram should use 3 bins\n",
    "df_oh['Semesters'].hist(bins=3)"
   ]
  },
  {
   "cell_type": "code",
   "execution_count": 81,
   "metadata": {},
   "outputs": [
    {
     "data": {
      "text/html": [
       "<div>\n",
       "<style scoped>\n",
       "    .dataframe tbody tr th:only-of-type {\n",
       "        vertical-align: middle;\n",
       "    }\n",
       "\n",
       "    .dataframe tbody tr th {\n",
       "        vertical-align: top;\n",
       "    }\n",
       "\n",
       "    .dataframe thead th {\n",
       "        text-align: right;\n",
       "    }\n",
       "</style>\n",
       "<table border=\"1\" class=\"dataframe\">\n",
       "  <thead>\n",
       "    <tr style=\"text-align: right;\">\n",
       "      <th></th>\n",
       "      <th>ID</th>\n",
       "      <th>Name</th>\n",
       "      <th>FoS</th>\n",
       "      <th>Semesters</th>\n",
       "      <th>ID</th>\n",
       "      <th>OMM</th>\n",
       "      <th>Wifo</th>\n",
       "      <th>Rank</th>\n",
       "    </tr>\n",
       "  </thead>\n",
       "  <tbody>\n",
       "    <tr>\n",
       "      <th>0</th>\n",
       "      <td>100112</td>\n",
       "      <td>Jim Collins</td>\n",
       "      <td>Wifo</td>\n",
       "      <td>-0.488776</td>\n",
       "      <td>0</td>\n",
       "      <td>0</td>\n",
       "      <td>1</td>\n",
       "      <td>(0.975, 13.5]</td>\n",
       "    </tr>\n",
       "    <tr>\n",
       "      <th>1</th>\n",
       "      <td>120095</td>\n",
       "      <td>Martin Schrader</td>\n",
       "      <td>Wifo</td>\n",
       "      <td>5.199338</td>\n",
       "      <td>0</td>\n",
       "      <td>0</td>\n",
       "      <td>1</td>\n",
       "      <td>(0.975, 13.5]</td>\n",
       "    </tr>\n",
       "    <tr>\n",
       "      <th>2</th>\n",
       "      <td>180331</td>\n",
       "      <td>Achim Zahn</td>\n",
       "      <td>OMM</td>\n",
       "      <td>-5.199338</td>\n",
       "      <td>0</td>\n",
       "      <td>1</td>\n",
       "      <td>0</td>\n",
       "      <td>(0.975, 13.5]</td>\n",
       "    </tr>\n",
       "    <tr>\n",
       "      <th>3</th>\n",
       "      <td>100113</td>\n",
       "      <td>Joan Collins</td>\n",
       "      <td>Wifo</td>\n",
       "      <td>0.157311</td>\n",
       "      <td>0</td>\n",
       "      <td>0</td>\n",
       "      <td>1</td>\n",
       "      <td>(0.975, 13.5]</td>\n",
       "    </tr>\n",
       "    <tr>\n",
       "      <th>4</th>\n",
       "      <td>120096</td>\n",
       "      <td>Martin Scorsese</td>\n",
       "      <td>ID</td>\n",
       "      <td>0.674490</td>\n",
       "      <td>1</td>\n",
       "      <td>0</td>\n",
       "      <td>0</td>\n",
       "      <td>(0.975, 13.5]</td>\n",
       "    </tr>\n",
       "    <tr>\n",
       "      <th>5</th>\n",
       "      <td>180332</td>\n",
       "      <td>Achim Loewer</td>\n",
       "      <td>OMM</td>\n",
       "      <td>-1.150349</td>\n",
       "      <td>0</td>\n",
       "      <td>1</td>\n",
       "      <td>0</td>\n",
       "      <td>(0.975, 13.5]</td>\n",
       "    </tr>\n",
       "    <tr>\n",
       "      <th>6</th>\n",
       "      <td>100114</td>\n",
       "      <td>Jim Beam</td>\n",
       "      <td>Wifo</td>\n",
       "      <td>-0.488776</td>\n",
       "      <td>0</td>\n",
       "      <td>0</td>\n",
       "      <td>1</td>\n",
       "      <td>(0.975, 13.5]</td>\n",
       "    </tr>\n",
       "    <tr>\n",
       "      <th>7</th>\n",
       "      <td>120097</td>\n",
       "      <td>Tim Schrader</td>\n",
       "      <td>Wifo</td>\n",
       "      <td>5.199338</td>\n",
       "      <td>0</td>\n",
       "      <td>0</td>\n",
       "      <td>1</td>\n",
       "      <td>(13.5, 26.0]</td>\n",
       "    </tr>\n",
       "    <tr>\n",
       "      <th>8</th>\n",
       "      <td>180333</td>\n",
       "      <td>Zacharias Maier</td>\n",
       "      <td>OMM</td>\n",
       "      <td>0.157311</td>\n",
       "      <td>0</td>\n",
       "      <td>1</td>\n",
       "      <td>0</td>\n",
       "      <td>(13.5, 26.0]</td>\n",
       "    </tr>\n",
       "  </tbody>\n",
       "</table>\n",
       "</div>"
      ],
      "text/plain": [
       "       ID             Name   FoS  Semesters  ID  OMM  Wifo           Rank\n",
       "0  100112      Jim Collins  Wifo  -0.488776   0    0     1  (0.975, 13.5]\n",
       "1  120095  Martin Schrader  Wifo   5.199338   0    0     1  (0.975, 13.5]\n",
       "2  180331       Achim Zahn   OMM  -5.199338   0    1     0  (0.975, 13.5]\n",
       "3  100113     Joan Collins  Wifo   0.157311   0    0     1  (0.975, 13.5]\n",
       "4  120096  Martin Scorsese    ID   0.674490   1    0     0  (0.975, 13.5]\n",
       "5  180332     Achim Loewer   OMM  -1.150349   0    1     0  (0.975, 13.5]\n",
       "6  100114         Jim Beam  Wifo  -0.488776   0    0     1  (0.975, 13.5]\n",
       "7  120097     Tim Schrader  Wifo   5.199338   0    0     1   (13.5, 26.0]\n",
       "8  180333  Zacharias Maier   OMM   0.157311   0    1     0   (13.5, 26.0]"
      ]
     },
     "execution_count": 81,
     "metadata": {},
     "output_type": "execute_result"
    }
   ],
   "source": [
    "df_oh"
   ]
  },
  {
   "cell_type": "code",
   "execution_count": null,
   "metadata": {},
   "outputs": [],
   "source": []
  }
 ],
 "metadata": {
  "kernelspec": {
   "display_name": ".venv",
   "language": "python",
   "name": "python3"
  },
  "language_info": {
   "codemirror_mode": {
    "name": "ipython",
    "version": 3
   },
   "file_extension": ".py",
   "mimetype": "text/x-python",
   "name": "python",
   "nbconvert_exporter": "python",
   "pygments_lexer": "ipython3",
   "version": "3.13.1"
  }
 },
 "nbformat": 4,
 "nbformat_minor": 2
}
